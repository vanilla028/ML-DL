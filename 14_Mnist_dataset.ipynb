{
  "nbformat": 4,
  "nbformat_minor": 0,
  "metadata": {
    "colab": {
      "provenance": []
    },
    "kernelspec": {
      "name": "python3",
      "display_name": "Python 3"
    },
    "language_info": {
      "name": "python"
    }
  },
  "cells": [
    {
      "cell_type": "code",
      "source": [
        "from keras.datasets import mnist\n",
        "import matplotlib.pyplot as plt\n",
        "plt.style.use('seaborn-whitegrid')"
      ],
      "metadata": {
        "colab": {
          "base_uri": "https://localhost:8080/"
        },
        "id": "s6PZcZ0SWrZz",
        "outputId": "3cebdaed-5927-4340-bede-1e8c2bd6a07f"
      },
      "execution_count": 3,
      "outputs": [
        {
          "output_type": "stream",
          "name": "stderr",
          "text": [
            "<ipython-input-3-24741d1fedea>:3: MatplotlibDeprecationWarning: The seaborn styles shipped by Matplotlib are deprecated since 3.6, as they no longer correspond to the styles shipped by seaborn. However, they will remain available as 'seaborn-v0_8-<style>'. Alternatively, directly use the seaborn API instead.\n",
            "  plt.style.use('seaborn-whitegrid')\n"
          ]
        }
      ]
    },
    {
      "cell_type": "code",
      "execution_count": 5,
      "metadata": {
        "colab": {
          "base_uri": "https://localhost:8080/",
          "height": 515
        },
        "id": "pXZ9_dumV7kX",
        "outputId": "0f1918bb-50d1-4ebc-aaa3-51ea77ff77c9"
      },
      "outputs": [
        {
          "output_type": "stream",
          "name": "stdout",
          "text": [
            "3\n",
            "(60000, 28, 28)\n",
            "uint8\n"
          ]
        },
        {
          "output_type": "display_data",
          "data": {
            "text/plain": [
              "<Figure size 640x480 with 1 Axes>"
            ],
            "image/png": "[encoded data removed]"
          },
          "metadata": {}
        },
        {
          "output_type": "stream",
          "name": "stdout",
          "text": [
            "5\n",
            "1\n"
          ]
        }
      ],
      "source": [
        "#순서대로 --> (학습용 데이터, 라벨),(테스트용 데이터, 라벨)\n",
        "(train_images, train_labels), (test_images, test_labels) = mnist.load_data()\n",
        "\n",
        "print(train_images.ndim) # 3\n",
        "\n",
        "print(train_images.shape) # (60000, 28, 28) ==> 총 60000만장, 사이즈 28픽셀 이미지로 구성되어 있다.\n",
        "\n",
        "print(train_images.dtype) # uint8 ==> 음의 정수가 없는, 양의 정수만 있는 8비트 타입의 정수형 ==> 2^8, 255까지 색상 표현이 가능\n",
        "\n",
        "#제일 첫 번째 장 가져오기 #color map\n",
        "train_images[0]\n",
        "temp_image = train_images[0]\n",
        "plt.imshow(temp_image,cmap='gray')\n",
        "plt.show()\n",
        "\n",
        "print(train_labels[0]) # 5\n",
        "print(train_labels[3]) # 1"
      ]
    },
    {
      "cell_type": "code",
      "source": [],
      "metadata": {
        "id": "-Cvu8HYBWDIz"
      },
      "execution_count": null,
      "outputs": []
    }
  ]
}