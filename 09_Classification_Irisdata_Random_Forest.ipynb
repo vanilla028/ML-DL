{
  "nbformat": 4,
  "nbformat_minor": 0,
  "metadata": {
    "colab": {
      "provenance": []
    },
    "kernelspec": {
      "name": "python3",
      "display_name": "Python 3"
    },
    "language_info": {
      "name": "python"
    }
  },
  "cells": [
    {
      "cell_type": "code",
      "execution_count": 1,
      "metadata": {
        "id": "GyNtY7mbSq__"
      },
      "outputs": [],
      "source": [
        "import numpy as np\n",
        "import pandas as pd\n",
        "import matplotlib.pyplot as plt\n",
        "import sklearn\n",
        "import warnings\n",
        "warnings.filterwarnings('ignore')"
      ]
    },
    {
      "cell_type": "code",
      "source": [
        "# 데이터셋 로드\n",
        "from sklearn.datasets import load_iris\n",
        "iris = load_iris()"
      ],
      "metadata": {
        "id": "CDSVltgOSuH6"
      },
      "execution_count": 3,
      "outputs": []
    },
    {
      "cell_type": "code",
      "source": [
        "data = iris.data\n",
        "label = iris.target\n",
        "columns = iris.feature_names"
      ],
      "metadata": {
        "id": "3fgodZ-9SxFK"
      },
      "execution_count": 4,
      "outputs": []
    },
    {
      "cell_type": "code",
      "source": [
        "# dataframe 만들기\n",
        "data = pd.DataFrame(data, columns=columns)"
      ],
      "metadata": {
        "id": "FvmxKmX-S07u"
      },
      "execution_count": 5,
      "outputs": []
    },
    {
      "cell_type": "code",
      "source": [
        "# 데이터의 준비 0.2는 테스트용 데이터\n",
        "from sklearn.model_selection import train_test_split\n",
        "\n",
        "X_train, X_test, y_train, y_test = train_test_split(\n",
        "    data,\n",
        "    label,\n",
        "    test_size=0.2, random_state=2022)"
      ],
      "metadata": {
        "id": "R7EjKzMpS3EG"
      },
      "execution_count": 6,
      "outputs": []
    },
    {
      "cell_type": "code",
      "source": [
        "# 랜덤 포레스트(Random Forest)\n",
        "from sklearn.ensemble import RandomForestClassifier\n",
        "rf = RandomForestClassifier(max_depth=5)\n",
        "\n",
        "# Regression 문제에서는 결정계수(R2)로 확인했다면, Classification 문제에서는 정확도(accuracy)로 판별\n",
        "from sklearn.metrics import accuracy_score\n",
        "\n",
        "# 학습 및 예측\n",
        "rf.fit(X_train, y_train)\n",
        "y_pred = rf.predict(X_test)\n",
        "print('랜덤 포레스트, 정확도: {:.2f}'.format(accuracy_score(y_test, y_pred)))"
      ],
      "metadata": {
        "colab": {
          "base_uri": "https://localhost:8080/"
        },
        "id": "-0r9ky14S5tF",
        "outputId": "69f47ed1-a09c-4600-a1aa-ef56892c6a06"
      },
      "execution_count": 8,
      "outputs": [
        {
          "output_type": "stream",
          "name": "stdout",
          "text": [
            "랜덤 포레스트, 정확도: 0.93\n"
          ]
        }
      ]
    },
    {
      "cell_type": "code",
      "source": [],
      "metadata": {
        "id": "RJaFkXtGS-GV"
      },
      "execution_count": null,
      "outputs": []
    }
  ]
}
