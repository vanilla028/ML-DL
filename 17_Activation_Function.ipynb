{
  "nbformat": 4,
  "nbformat_minor": 0,
  "metadata": {
    "colab": {
      "provenance": []
    },
    "kernelspec": {
      "name": "python3",
      "display_name": "Python 3"
    },
    "language_info": {
      "name": "python"
    }
  },
  "cells": [
    {
      "cell_type": "code",
      "execution_count": 5,
      "metadata": {
        "id": "s8oxGk7xf88T"
      },
      "outputs": [],
      "source": [
        "import numpy as np\n",
        "import matplotlib.pyplot as plt"
      ]
    },
    {
      "cell_type": "code",
      "source": [
        "# 활성화 함수(Activation Function)\n",
        "\n",
        "# Step Function (계단 함수): 불연속 함수이기 때문에 미분이 불가능, 데이터 손실 가능성.\n",
        "def step_function(x):\n",
        "  if x > 0:\n",
        "    return 1\n",
        "  else:\n",
        "    return 0"
      ],
      "metadata": {
        "id": "WzAqyFyFgFVI"
      },
      "execution_count": 6,
      "outputs": []
    },
    {
      "cell_type": "code",
      "source": [
        "print(step_function(-3))\n",
        "print(step_function(5))"
      ],
      "metadata": {
        "colab": {
          "base_uri": "https://localhost:8080/"
        },
        "id": "k7r_4G1hh1LT",
        "outputId": "b11fe6ea-6f44-4070-cf6e-d51bcb6d9ec5"
      },
      "execution_count": 7,
      "outputs": [
        {
          "output_type": "stream",
          "name": "stdout",
          "text": [
            "0\n",
            "1\n"
          ]
        }
      ]
    },
    {
      "cell_type": "code",
      "source": [
        " # NumPy 배열을 입력으로 받아 NumPy의 기능을 사용하여 계산하는 Step Function(계단 함수)\n",
        "def step_function_for_numpy(x):\n",
        "  y = x > 0\n",
        "  value  = y.astype(int)\n",
        "\n",
        "  return value"
      ],
      "metadata": {
        "id": "WFfnuuffgREp"
      },
      "execution_count": 11,
      "outputs": []
    },
    {
      "cell_type": "code",
      "source": [
        "x = np.array([-1, 2, 0, 4, -3]) # x를 입력하면 y는 [False, True, False, True, False]\n",
        "print(step_function_for_numpy(x))"
      ],
      "metadata": {
        "colab": {
          "base_uri": "https://localhost:8080/"
        },
        "id": "jqnRNYUCh_zA",
        "outputId": "138dd741-f93b-42f0-9568-34600b8aaf6a"
      },
      "execution_count": 12,
      "outputs": [
        {
          "output_type": "stream",
          "name": "stdout",
          "text": [
            "[0 1 0 1 0]\n"
          ]
        }
      ]
    },
    {
      "cell_type": "code",
      "source": [
        "# 시그모이드 함수(Sigmoid): 이진분류에 사용\n",
        "def sigmoid(x):\n",
        "  value = 1 / (1 + np.exp(-x))\n",
        "  return value\n",
        "\n",
        "print(sigmoid(3))\n",
        "print(sigmoid(-3))"
      ],
      "metadata": {
        "colab": {
          "base_uri": "https://localhost:8080/"
        },
        "id": "SWZ-OzOGiIzM",
        "outputId": "2a461831-76b1-4b7b-9d28-f4d1698c3645"
      },
      "execution_count": 13,
      "outputs": [
        {
          "output_type": "stream",
          "name": "stdout",
          "text": [
            "0.9525741268224334\n",
            "0.04742587317756678\n"
          ]
        }
      ]
    },
    {
      "cell_type": "code",
      "source": [
        "plt.grid()\n",
        "x = np.arange(-5,5,0.01)\n",
        "y1 = sigmoid(x)\n",
        "y2 = step_function_for_numpy(x)\n",
        "\n",
        "plt.plot(x, y1,'r-')\n",
        "plt.plot(x, y2, 'b--')\n",
        "plt.show()"
      ],
      "metadata": {
        "colab": {
          "base_uri": "https://localhost:8080/",
          "height": 430
        },
        "id": "xoRWkpmEi1L4",
        "outputId": "79ec7a2b-41a8-4847-8e93-7e45836cd81e"
      },
      "execution_count": 14,
      "outputs": [
        {
          "output_type": "display_data",
          "data": {
            "text/plain": [
              "<Figure size 640x480 with 1 Axes>"
            ],
            "image/png": "[encoded data removed]"
          },
          "metadata": {}
        }
      ]
    },
    {
      "cell_type": "code",
      "source": [
        "# ReLu(x): 입력이 0을 넘으면 그 입력을 그대로 출력하고, 0 이하면 0을 출력하는 함수\n",
        "def ReLu(x):\n",
        "  if x > 0:\n",
        "    return x\n",
        "  else:\n",
        "    return 0"
      ],
      "metadata": {
        "id": "iLgtMRgXi24S"
      },
      "execution_count": 15,
      "outputs": []
    },
    {
      "cell_type": "code",
      "source": [
        "# Identity Function (항등 함수): 회귀에서 사용\n",
        "def identify_function(x):\n",
        "  return x"
      ],
      "metadata": {
        "id": "awuxstJmi8Fa"
      },
      "execution_count": 16,
      "outputs": []
    },
    {
      "cell_type": "code",
      "source": [
        "# Softmax(a): 다중 분류에서 사용. 출력값의 총합은 1\n",
        "def Softmax(a):\n",
        "  exp_a = np.exp(a)\n",
        "  sum_exp_a = np.sum(exp_a)\n",
        "  y = exp_a / sum_exp_a\n",
        "\n",
        "  return y"
      ],
      "metadata": {
        "id": "2Cylxg6oi9dL"
      },
      "execution_count": 17,
      "outputs": []
    },
    {
      "cell_type": "code",
      "source": [
        "a = np.array([0.3,0.2,3.0,-1.2])\n",
        "print(Softmax(a))\n",
        "print(np.sum(Softmax(a)))"
      ],
      "metadata": {
        "colab": {
          "base_uri": "https://localhost:8080/"
        },
        "id": "pX7FO2w5i_AK",
        "outputId": "d391a64e-09a5-40f0-e6fd-2da7d52168ee"
      },
      "execution_count": 18,
      "outputs": [
        {
          "output_type": "stream",
          "name": "stdout",
          "text": [
            "[0.0587969  0.05320164 0.8748821  0.01311936]\n",
            "1.0\n"
          ]
        }
      ]
    },
    {
      "cell_type": "code",
      "source": [],
      "metadata": {
        "id": "TaelquB8jAtF"
      },
      "execution_count": null,
      "outputs": []
    }
  ]
}