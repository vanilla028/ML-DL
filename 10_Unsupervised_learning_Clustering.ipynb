{
  "nbformat": 4,
  "nbformat_minor": 0,
  "metadata": {
    "colab": {
      "provenance": []
    },
    "kernelspec": {
      "name": "python3",
      "display_name": "Python 3"
    },
    "language_info": {
      "name": "python"
    }
  },
  "cells": [
    {
      "cell_type": "code",
      "execution_count": 1,
      "metadata": {
        "id": "njy_hXGyTSGA"
      },
      "outputs": [],
      "source": [
        "import numpy as np\n",
        "import pandas as pd\n",
        "import matplotlib.pyplot as plt\n",
        "import sklearn\n",
        "import warnings\n",
        "warnings.filterwarnings('ignore')"
      ]
    },
    {
      "cell_type": "code",
      "source": [
        "# 데이터셋 로드\n",
        "from sklearn.datasets import load_wine\n",
        "wine = load_wine()"
      ],
      "metadata": {
        "id": "8SrTRC6PTVN6"
      },
      "execution_count": 2,
      "outputs": []
    },
    {
      "cell_type": "code",
      "source": [
        "print(wine.DESCR)"
      ],
      "metadata": {
        "colab": {
          "base_uri": "https://localhost:8080/"
        },
        "id": "XbiZdrpiTYnW",
        "outputId": "47ddbe77-ebfb-40ac-f2a9-89322ddd3142"
      },
      "execution_count": 3,
      "outputs": [
        {
          "output_type": "stream",
          "name": "stdout",
          "text": [
            ".. _wine_dataset:\n",
            "\n",
            "Wine recognition dataset\n",
            "------------------------\n",
            "\n",
            "**Data Set Characteristics:**\n",
            "\n",
            "    :Number of Instances: 178\n",
            "    :Number of Attributes: 13 numeric, predictive attributes and the class\n",
            "    :Attribute Information:\n",
            " \t\t- Alcohol\n",
            " \t\t- Malic acid\n",
            " \t\t- Ash\n",
            "\t\t- Alcalinity of ash  \n",
            " \t\t- Magnesium\n",
            "\t\t- Total phenols\n",
            " \t\t- Flavanoids\n",
            " \t\t- Nonflavanoid phenols\n",
            " \t\t- Proanthocyanins\n",
            "\t\t- Color intensity\n",
            " \t\t- Hue\n",
            " \t\t- OD280/OD315 of diluted wines\n",
            " \t\t- Proline\n",
            "\n",
            "    - class:\n",
            "            - class_0\n",
            "            - class_1\n",
            "            - class_2\n",
            "\t\t\n",
            "    :Summary Statistics:\n",
            "    \n",
            "    ============================= ==== ===== ======= =====\n",
            "                                   Min   Max   Mean     SD\n",
            "    ============================= ==== ===== ======= =====\n",
            "    Alcohol:                      11.0  14.8    13.0   0.8\n",
            "    Malic Acid:                   0.74  5.80    2.34  1.12\n",
            "    Ash:                          1.36  3.23    2.36  0.27\n",
            "    Alcalinity of Ash:            10.6  30.0    19.5   3.3\n",
            "    Magnesium:                    70.0 162.0    99.7  14.3\n",
            "    Total Phenols:                0.98  3.88    2.29  0.63\n",
            "    Flavanoids:                   0.34  5.08    2.03  1.00\n",
            "    Nonflavanoid Phenols:         0.13  0.66    0.36  0.12\n",
            "    Proanthocyanins:              0.41  3.58    1.59  0.57\n",
            "    Colour Intensity:              1.3  13.0     5.1   2.3\n",
            "    Hue:                          0.48  1.71    0.96  0.23\n",
            "    OD280/OD315 of diluted wines: 1.27  4.00    2.61  0.71\n",
            "    Proline:                       278  1680     746   315\n",
            "    ============================= ==== ===== ======= =====\n",
            "\n",
            "    :Missing Attribute Values: None\n",
            "    :Class Distribution: class_0 (59), class_1 (71), class_2 (48)\n",
            "    :Creator: R.A. Fisher\n",
            "    :Donor: Michael Marshall (MARSHALL%PLU@io.arc.nasa.gov)\n",
            "    :Date: July, 1988\n",
            "\n",
            "This is a copy of UCI ML Wine recognition datasets.\n",
            "https://archive.ics.uci.edu/ml/machine-learning-databases/wine/wine.data\n",
            "\n",
            "The data is the results of a chemical analysis of wines grown in the same\n",
            "region in Italy by three different cultivators. There are thirteen different\n",
            "measurements taken for different constituents found in the three types of\n",
            "wine.\n",
            "\n",
            "Original Owners: \n",
            "\n",
            "Forina, M. et al, PARVUS - \n",
            "An Extendible Package for Data Exploration, Classification and Correlation. \n",
            "Institute of Pharmaceutical and Food Analysis and Technologies,\n",
            "Via Brigata Salerno, 16147 Genoa, Italy.\n",
            "\n",
            "Citation:\n",
            "\n",
            "Lichman, M. (2013). UCI Machine Learning Repository\n",
            "[https://archive.ics.uci.edu/ml]. Irvine, CA: University of California,\n",
            "School of Information and Computer Science. \n",
            "\n",
            ".. topic:: References\n",
            "\n",
            "  (1) S. Aeberhard, D. Coomans and O. de Vel, \n",
            "  Comparison of Classifiers in High Dimensional Settings, \n",
            "  Tech. Rep. no. 92-02, (1992), Dept. of Computer Science and Dept. of  \n",
            "  Mathematics and Statistics, James Cook University of North Queensland. \n",
            "  (Also submitted to Technometrics). \n",
            "\n",
            "  The data was used with many others for comparing various \n",
            "  classifiers. The classes are separable, though only RDA \n",
            "  has achieved 100% correct classification. \n",
            "  (RDA : 100%, QDA 99.4%, LDA 98.9%, 1NN 96.1% (z-transformed data)) \n",
            "  (All results using the leave-one-out technique) \n",
            "\n",
            "  (2) S. Aeberhard, D. Coomans and O. de Vel, \n",
            "  \"THE CLASSIFICATION PERFORMANCE OF RDA\" \n",
            "  Tech. Rep. no. 92-01, (1992), Dept. of Computer Science and Dept. of \n",
            "  Mathematics and Statistics, James Cook University of North Queensland. \n",
            "  (Also submitted to Journal of Chemometrics).\n",
            "\n"
          ]
        }
      ]
    },
    {
      "cell_type": "code",
      "source": [
        "data = wine.data\n",
        "label = wine.target\n",
        "columns = wine.feature_names"
      ],
      "metadata": {
        "id": "Z0lEb7_zTZ7M"
      },
      "execution_count": 4,
      "outputs": []
    },
    {
      "cell_type": "code",
      "source": [
        "data = pd.DataFrame(data, columns=columns)\n",
        "print(data.head())"
      ],
      "metadata": {
        "colab": {
          "base_uri": "https://localhost:8080/"
        },
        "id": "K6OzeZx7TcTh",
        "outputId": "8a3858d1-61a9-4030-e443-5616f1261c16"
      },
      "execution_count": 5,
      "outputs": [
        {
          "output_type": "stream",
          "name": "stdout",
          "text": [
            "   alcohol  malic_acid   ash  alcalinity_of_ash  magnesium  total_phenols  \\\n",
            "0    14.23        1.71  2.43               15.6      127.0           2.80   \n",
            "1    13.20        1.78  2.14               11.2      100.0           2.65   \n",
            "2    13.16        2.36  2.67               18.6      101.0           2.80   \n",
            "3    14.37        1.95  2.50               16.8      113.0           3.85   \n",
            "4    13.24        2.59  2.87               21.0      118.0           2.80   \n",
            "\n",
            "   flavanoids  nonflavanoid_phenols  proanthocyanins  color_intensity   hue  \\\n",
            "0        3.06                  0.28             2.29             5.64  1.04   \n",
            "1        2.76                  0.26             1.28             4.38  1.05   \n",
            "2        3.24                  0.30             2.81             5.68  1.03   \n",
            "3        3.49                  0.24             2.18             7.80  0.86   \n",
            "4        2.69                  0.39             1.82             4.32  1.04   \n",
            "\n",
            "   od280/od315_of_diluted_wines  proline  \n",
            "0                          3.92   1065.0  \n",
            "1                          3.40   1050.0  \n",
            "2                          3.17   1185.0  \n",
            "3                          3.45   1480.0  \n",
            "4                          2.93    735.0  \n"
          ]
        }
      ]
    },
    {
      "cell_type": "code",
      "source": [
        "# Unsupervised Learning: K-Means\n",
        "\n",
        "# 데이터 전처리 필요 -> MinMaxScaler\n",
        "from sklearn.preprocessing import MinMaxScaler\n",
        "scaler = MinMaxScaler()\n",
        "data = scaler.fit_transform(data)"
      ],
      "metadata": {
        "id": "XHIaSL6iTgqP"
      },
      "execution_count": 6,
      "outputs": []
    },
    {
      "cell_type": "code",
      "source": [
        "print(data.shape)"
      ],
      "metadata": {
        "colab": {
          "base_uri": "https://localhost:8080/"
        },
        "id": "fXFj2xkoTnGT",
        "outputId": "851e8e1c-d097-4f74-f0cd-dc821fefb183"
      },
      "execution_count": 7,
      "outputs": [
        {
          "output_type": "stream",
          "name": "stdout",
          "text": [
            "(178, 13)\n"
          ]
        }
      ]
    },
    {
      "cell_type": "code",
      "source": [
        "# 13차원에서는 패턴을 찾기 힘드므로 차원을 축소한다\n",
        "# PCA(차원의 축소)\n",
        "# PCA (차원의 축소)\n",
        "from sklearn.decomposition import PCA\n",
        "pca = PCA(n_components=2)\n",
        "data = pca.fit_transform(data)\n",
        "print(data)"
      ],
      "metadata": {
        "colab": {
          "base_uri": "https://localhost:8080/"
        },
        "id": "UCTJh8tqTnkr",
        "outputId": "829262e1-1f2e-4506-d387-66d36e809ecb"
      },
      "execution_count": 8,
      "outputs": [
        {
          "output_type": "stream",
          "name": "stdout",
          "text": [
            "[[-7.06335756e-01 -2.53192753e-01]\n",
            " [-4.84976802e-01 -8.82289142e-03]\n",
            " [-5.21172266e-01 -1.89187222e-01]\n",
            " [-8.21643663e-01 -5.80905512e-01]\n",
            " [-2.02546382e-01 -5.94665740e-02]\n",
            " [-6.08190152e-01 -4.87519191e-01]\n",
            " [-5.44047399e-01 -3.00196497e-01]\n",
            " [-4.74357495e-01 -2.98197021e-01]\n",
            " [-5.00432012e-01 -3.07602859e-01]\n",
            " [-6.27517969e-01 -2.06328233e-01]\n",
            " [-7.27467157e-01 -3.56512044e-01]\n",
            " [-3.74967744e-01 -2.25424535e-01]\n",
            " [-4.48188283e-01 -2.31938139e-01]\n",
            " [-6.26345329e-01 -3.55138677e-01]\n",
            " [-8.35717011e-01 -5.38047802e-01]\n",
            " [-4.71931568e-01 -3.37405385e-01]\n",
            " [-4.26990905e-01 -4.50842684e-01]\n",
            " [-3.66595704e-01 -3.15750341e-01]\n",
            " [-7.18788533e-01 -5.93881332e-01]\n",
            " [-4.58884986e-01 -1.75782240e-01]\n",
            " [-6.61852288e-01 -1.27831032e-01]\n",
            " [-2.67900032e-01  9.81127565e-03]\n",
            " [-5.99782399e-01  7.82494523e-04]\n",
            " [-4.17894800e-01  1.13786901e-01]\n",
            " [-4.49940392e-01  9.83771974e-02]\n",
            " [-2.15787795e-01  9.26270331e-03]\n",
            " [-4.15531996e-01 -1.55470385e-01]\n",
            " [-2.83946970e-01 -8.97364262e-02]\n",
            " [-4.75099227e-01 -8.80516479e-02]\n",
            " [-5.14396469e-01 -1.04602502e-01]\n",
            " [-5.20965812e-01 -2.58430884e-01]\n",
            " [-5.75738233e-01 -3.61155788e-01]\n",
            " [-3.02144639e-01 -5.14943064e-02]\n",
            " [-3.67021971e-01 -2.68616630e-01]\n",
            " [-3.03022468e-01 -1.21413202e-01]\n",
            " [-4.58338878e-01 -3.03098822e-02]\n",
            " [-2.71566325e-01 -7.61238406e-02]\n",
            " [-2.32004189e-01 -5.03302763e-02]\n",
            " [-3.05480403e-01  6.16775563e-02]\n",
            " [-5.19605033e-01 -3.13830061e-01]\n",
            " [-5.30575114e-01 -1.29536623e-01]\n",
            " [-1.87044526e-01 -1.24830306e-01]\n",
            " [-7.05508197e-01 -2.36951582e-01]\n",
            " [-1.11517299e-01 -6.93158637e-02]\n",
            " [-4.67360652e-01 -4.17305795e-03]\n",
            " [-2.90122801e-01 -3.67221063e-01]\n",
            " [-5.83259370e-01 -3.09000481e-01]\n",
            " [-6.20279029e-01 -1.93810631e-01]\n",
            " [-3.94822370e-01 -2.93598970e-01]\n",
            " [-5.59620161e-01 -4.08270579e-01]\n",
            " [-6.31721343e-01 -1.53075104e-01]\n",
            " [-6.19429907e-01 -1.89577074e-01]\n",
            " [-7.31057466e-01 -3.52882173e-01]\n",
            " [-4.46372391e-01 -3.75445367e-01]\n",
            " [-4.72271686e-01 -2.17583775e-01]\n",
            " [-5.26519475e-01 -2.47353412e-01]\n",
            " [-5.80922838e-01 -2.96118382e-01]\n",
            " [-4.56499660e-01 -2.54172861e-01]\n",
            " [-6.68673306e-01 -3.73626692e-01]\n",
            " [ 2.36612131e-01  4.15897679e-01]\n",
            " [ 4.11083017e-01  2.39042056e-01]\n",
            " [ 4.53466145e-01  1.15387043e-01]\n",
            " [-1.02908723e-02  1.44058312e-01]\n",
            " [-4.53680708e-01  3.58591310e-01]\n",
            " [ 1.85889069e-01  4.31970612e-01]\n",
            " [-1.32514400e-01  1.77025232e-01]\n",
            " [-4.81660733e-01  2.48221509e-01]\n",
            " [-1.37359790e-01  4.31281611e-01]\n",
            " [ 2.20157829e-01  2.60739073e-02]\n",
            " [-3.45031544e-01  3.16134486e-01]\n",
            " [ 3.67943408e-01  1.55916428e-01]\n",
            " [-4.08324351e-01  2.21997603e-01]\n",
            " [ 7.54211315e-02  1.96129620e-01]\n",
            " [-5.99276557e-01  8.58331792e-02]\n",
            " [-4.59562261e-01  2.77406318e-01]\n",
            " [ 2.31860903e-01  4.39499276e-01]\n",
            " [-6.49397655e-02  3.10816394e-01]\n",
            " [ 3.23736371e-01  3.22191312e-01]\n",
            " [-1.33928622e-01  1.67857293e-01]\n",
            " [-8.63464614e-02  2.50941891e-01]\n",
            " [-1.87477316e-01  6.49776372e-01]\n",
            " [-2.53589040e-01  2.49115557e-01]\n",
            " [ 6.45922121e-02  4.87258389e-01]\n",
            " [ 5.68567489e-01 -2.72502414e-03]\n",
            " [-2.07555330e-01  3.83332423e-01]\n",
            " [-1.84826649e-01  4.18166208e-01]\n",
            " [ 1.94604609e-01  4.44698701e-01]\n",
            " [ 4.97903090e-02  5.58265148e-01]\n",
            " [ 2.01995378e-01  3.91867103e-01]\n",
            " [ 2.60011770e-02  5.20397483e-01]\n",
            " [ 3.20777030e-01  4.07964175e-01]\n",
            " [ 3.21433432e-01  4.14255535e-01]\n",
            " [ 4.41539233e-01  2.80747043e-01]\n",
            " [-1.83814799e-01  4.70714917e-01]\n",
            " [-2.34623773e-01  4.82068800e-01]\n",
            " [-3.98762991e-01  6.68359472e-02]\n",
            " [ 1.32311032e-01  2.33219802e-01]\n",
            " [-2.03237436e-01  4.46450045e-01]\n",
            " [-4.91302147e-01  2.39224247e-01]\n",
            " [-2.22211504e-01  4.05617951e-01]\n",
            " [-1.78415144e-01  3.83375676e-01]\n",
            " [ 8.82037061e-02  3.91561686e-01]\n",
            " [-4.59627898e-02  3.16898298e-01]\n",
            " [ 1.27165257e-01  4.86899646e-01]\n",
            " [-1.68359803e-01  3.79932119e-01]\n",
            " [ 3.34941838e-01  4.01936155e-01]\n",
            " [ 3.08559770e-02  4.12679142e-01]\n",
            " [ 3.31338297e-01  2.69832520e-01]\n",
            " [-3.25248675e-02  4.59852304e-01]\n",
            " [-3.63261832e-01  3.91179206e-01]\n",
            " [-2.58928676e-01  2.82827496e-01]\n",
            " [ 1.22122333e-03  3.83225395e-01]\n",
            " [ 3.11152099e-01  2.70193984e-01]\n",
            " [ 9.92201563e-02  5.07021835e-01]\n",
            " [ 1.87326999e-02  4.56899550e-01]\n",
            " [-6.13720074e-02  7.77543093e-01]\n",
            " [-2.53109370e-02  5.59167632e-01]\n",
            " [ 1.25729314e-03  4.42898174e-01]\n",
            " [ 5.12737594e-01  1.71179320e-01]\n",
            " [ 9.10642272e-02  4.11366678e-01]\n",
            " [-2.20708758e-01  3.59648556e-01]\n",
            " [-3.57855636e-01  2.43309637e-01]\n",
            " [ 1.96736866e-01  2.68406268e-01]\n",
            " [ 4.66832534e-02  1.02594073e-01]\n",
            " [-2.76379590e-01  3.48247689e-01]\n",
            " [-5.80494972e-02  4.43300887e-01]\n",
            " [-5.61569953e-02  2.89123497e-01]\n",
            " [ 3.18351542e-01  3.69040098e-01]\n",
            " [ 6.16894441e-02  4.30372899e-01]\n",
            " [ 3.35113252e-01  2.33117539e-01]\n",
            " [ 3.38878410e-01 -1.63054182e-02]\n",
            " [ 5.25473386e-01 -6.85182058e-02]\n",
            " [ 6.10608687e-01 -3.87597325e-02]\n",
            " [ 4.70503301e-01 -7.80055196e-02]\n",
            " [ 5.59522391e-01  4.55607505e-02]\n",
            " [ 7.00887626e-01 -1.05783625e-01]\n",
            " [ 8.68367098e-01 -4.07280841e-02]\n",
            " [ 8.62780923e-01 -7.82006550e-02]\n",
            " [ 6.83749542e-01 -1.33888807e-01]\n",
            " [ 4.90719365e-01  5.56742597e-04]\n",
            " [ 5.69453098e-01  5.36461511e-03]\n",
            " [ 4.24677352e-01 -9.95305796e-02]\n",
            " [ 6.15620030e-01 -4.77516359e-02]\n",
            " [ 5.22173329e-01 -1.38443762e-01]\n",
            " [ 4.77614572e-01 -2.27298230e-01]\n",
            " [ 5.79679657e-01 -1.57739251e-01]\n",
            " [ 9.15216446e-01 -2.14231373e-01]\n",
            " [ 7.36788844e-01 -2.52267555e-01]\n",
            " [ 6.03862841e-01 -3.27962913e-01]\n",
            " [ 6.54244135e-01 -3.78555154e-01]\n",
            " [ 5.20842263e-01 -3.83062058e-01]\n",
            " [ 5.49621418e-01 -3.34917377e-01]\n",
            " [ 4.06086595e-01 -1.90280414e-01]\n",
            " [ 6.67875156e-01 -4.47135704e-01]\n",
            " [ 6.26785798e-01 -8.89615490e-02]\n",
            " [ 8.17055087e-01 -3.91798468e-01]\n",
            " [ 6.50979872e-01 -4.12211745e-01]\n",
            " [ 7.13430627e-01 -2.04371473e-01]\n",
            " [ 2.56575999e-01 -6.45305842e-01]\n",
            " [ 3.73642517e-01 -4.43532276e-01]\n",
            " [ 6.75012039e-01 -1.43459280e-01]\n",
            " [ 5.17484679e-01 -2.29187276e-01]\n",
            " [ 6.26069565e-01 -4.62805195e-02]\n",
            " [ 5.79008532e-01 -1.39074816e-01]\n",
            " [ 6.24375675e-01 -3.48868312e-01]\n",
            " [ 7.66349788e-01 -2.23018532e-01]\n",
            " [ 5.63011192e-01 -4.76565598e-01]\n",
            " [ 6.24388906e-01 -2.88769367e-01]\n",
            " [ 4.72514206e-01 -3.60781032e-01]\n",
            " [ 4.82393361e-01 -4.15988803e-01]\n",
            " [ 6.79182280e-01  6.57518884e-02]\n",
            " [ 7.74530367e-01 -1.81913660e-01]\n",
            " [ 5.37656394e-01 -4.62404696e-01]\n",
            " [ 7.39509503e-01 -4.71901149e-01]\n",
            " [ 5.81781139e-01 -3.48365752e-01]\n",
            " [ 6.26312888e-01 -5.46857013e-01]\n",
            " [ 5.72991102e-01 -4.25516087e-01]\n",
            " [ 7.01763997e-01 -5.13504983e-01]]\n"
          ]
        }
      ]
    },
    {
      "cell_type": "markdown",
      "source": [
        "==> 13차원의 데이터가 2차원으로 변환되었다. 전처리 끝."
      ],
      "metadata": {
        "id": "uq753mrgTtn5"
      }
    },
    {
      "cell_type": "code",
      "source": [
        "# Unsupervised learning: k-Means clustering\n",
        "\n",
        "from sklearn.cluster import KMeans\n",
        "kmeans = KMeans(n_clusters=3) # 세 종류이므로 3의 값을 넣어준다.\n",
        "kmeans.fit(data)\n",
        "cluster = kmeans.predict(data)"
      ],
      "metadata": {
        "id": "tTaMRdmuTq0a"
      },
      "execution_count": 9,
      "outputs": []
    },
    {
      "cell_type": "code",
      "source": [
        "print(cluster)"
      ],
      "metadata": {
        "colab": {
          "base_uri": "https://localhost:8080/"
        },
        "id": "bRRihsrvTxE5",
        "outputId": "659218b3-a41f-4abd-b867-dc01d46c6a4e"
      },
      "execution_count": 10,
      "outputs": [
        {
          "output_type": "stream",
          "name": "stdout",
          "text": [
            "[0 0 0 0 0 0 0 0 0 0 0 0 0 0 0 0 0 0 0 0 0 0 0 0 0 0 0 0 0 0 0 0 0 0 0 0 0\n",
            " 0 0 0 0 0 0 0 0 0 0 0 0 0 0 0 0 0 0 0 0 0 0 2 2 1 2 2 2 2 0 2 2 2 2 0 2 0\n",
            " 0 2 2 2 2 2 2 2 2 1 2 2 2 2 2 2 2 2 2 2 2 0 2 2 0 2 2 2 2 2 2 2 2 2 2 2 2\n",
            " 2 2 2 2 2 2 2 1 2 2 2 2 2 2 2 2 2 2 2 1 1 1 1 1 1 1 1 1 1 1 1 1 1 1 1 1 1\n",
            " 1 1 1 1 1 1 1 1 1 1 1 1 1 1 1 1 1 1 1 1 1 1 1 1 1 1 1 1 1 1]\n"
          ]
        }
      ]
    },
    {
      "cell_type": "code",
      "source": [
        "# 데이터 시각화하기\n",
        "# 첫 번째, 두 번째 특성을 사용한다.\n",
        "plt.scatter(data[:,0],data[:,1], c=cluster, edgecolor='black', linewidth=1)\n",
        "plt.show()"
      ],
      "metadata": {
        "colab": {
          "base_uri": "https://localhost:8080/",
          "height": 430
        },
        "id": "F_5cQC0XTzX2",
        "outputId": "50adea24-fb9e-4603-beb9-39a522edb55a"
      },
      "execution_count": 12,
      "outputs": [
        {
          "output_type": "display_data",
          "data": {
            "text/plain": [
              "<Figure size 640x480 with 1 Axes>"
            ],
            "image/png": "[encoded data removed]"
          },
          "metadata": {}
        }
      ]
    },
    {
      "cell_type": "code",
      "source": [
        "# Silhouette\n",
        "from sklearn.metrics import silhouette_score\n",
        "\n",
        "best_n = 1\n",
        "best_score = -1\n",
        "\n",
        "for n_cluster in range(2,11):\n",
        "  kmeans = KMeans(n_clusters=n_cluster)\n",
        "  kmeans.fit(data)\n",
        "  cluster = kmeans.predict(data)\n",
        "  score = silhouette_score(data, cluster)\n",
        "\n",
        "  print('클러스터의 수: {} 실루엣 점수:{:.2f}'.format(n_cluster, score))\n",
        "\n",
        "  if score > best_score:\n",
        "    best_n = n_cluster\n",
        "    best_score = score\n",
        "\n",
        "print('가장 높은 실루엣 점수를 가진 클러스터 수: {}, 실루엣 점수 {:.2f}'.format(best_n, best_score))"
      ],
      "metadata": {
        "colab": {
          "base_uri": "https://localhost:8080/"
        },
        "id": "ZONkYbaZT4-I",
        "outputId": "5dd1c929-7749-45a8-cc3a-5bcbb9af6cd3"
      },
      "execution_count": 13,
      "outputs": [
        {
          "output_type": "stream",
          "name": "stdout",
          "text": [
            "클러스터의 수: 2 실루엣 점수:0.49\n",
            "클러스터의 수: 3 실루엣 점수:0.57\n",
            "클러스터의 수: 4 실루엣 점수:0.49\n",
            "클러스터의 수: 5 실루엣 점수:0.46\n",
            "클러스터의 수: 6 실루엣 점수:0.43\n",
            "클러스터의 수: 7 실루엣 점수:0.40\n",
            "클러스터의 수: 8 실루엣 점수:0.40\n",
            "클러스터의 수: 9 실루엣 점수:0.40\n",
            "클러스터의 수: 10 실루엣 점수:0.39\n",
            "가장 높은 실루엣 점수를 가진 클러스터 수: 3, 실루엣 점수 0.57\n"
          ]
        }
      ]
    },
    {
      "cell_type": "code",
      "source": [],
      "metadata": {
        "id": "tzGyP1KcVGFm"
      },
      "execution_count": null,
      "outputs": []
    }
  ]
}