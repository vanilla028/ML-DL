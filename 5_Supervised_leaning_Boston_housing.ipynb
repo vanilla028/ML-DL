{
  "nbformat": 4,
  "nbformat_minor": 0,
  "metadata": {
    "colab": {
      "provenance": []
    },
    "kernelspec": {
      "name": "python3",
      "display_name": "Python 3"
    },
    "language_info": {
      "name": "python"
    }
  },
  "cells": [
    {
      "cell_type": "markdown",
      "source": [
        "# **지도 학습(Supervised Learning)으로 보스턴 주택 가격 회귀 모델 만들기**"
      ],
      "metadata": {
        "id": "z1SHN4GOt02F"
      }
    },
    {
      "cell_type": "code",
      "execution_count": 2,
      "metadata": {
        "id": "ELQlhBfkt0KX",
        "colab": {
          "base_uri": "https://localhost:8080/",
          "height": 1000
        },
        "outputId": "2af363ac-ceee-4745-b1a6-2631a8278527"
      },
      "outputs": [
        {
          "output_type": "error",
          "ename": "ImportError",
          "evalue": "ignored",
          "traceback": [
            "\u001b[0;31m---------------------------------------------------------------------------\u001b[0m",
            "\u001b[0;31mImportError\u001b[0m                               Traceback (most recent call last)",
            "\u001b[0;32m<ipython-input-2-239d5c9514f2>\u001b[0m in \u001b[0;36m<cell line: 15>\u001b[0;34m()\u001b[0m\n\u001b[1;32m     13\u001b[0m \u001b[0mwarnings\u001b[0m\u001b[0;34m.\u001b[0m\u001b[0mfilterwarnings\u001b[0m\u001b[0;34m(\u001b[0m\u001b[0;34m'ignore'\u001b[0m\u001b[0;34m)\u001b[0m\u001b[0;34m\u001b[0m\u001b[0;34m\u001b[0m\u001b[0m\n\u001b[1;32m     14\u001b[0m \u001b[0;34m\u001b[0m\u001b[0m\n\u001b[0;32m---> 15\u001b[0;31m \u001b[0;32mfrom\u001b[0m \u001b[0msklearn\u001b[0m\u001b[0;34m.\u001b[0m\u001b[0mdatasets\u001b[0m \u001b[0;32mimport\u001b[0m \u001b[0mload_boston\u001b[0m\u001b[0;34m\u001b[0m\u001b[0;34m\u001b[0m\u001b[0m\n\u001b[0m",
            "\u001b[0;32m/usr/local/lib/python3.10/dist-packages/sklearn/datasets/__init__.py\u001b[0m in \u001b[0;36m__getattr__\u001b[0;34m(name)\u001b[0m\n\u001b[1;32m    154\u001b[0m             \"\"\"\n\u001b[1;32m    155\u001b[0m         )\n\u001b[0;32m--> 156\u001b[0;31m         \u001b[0;32mraise\u001b[0m \u001b[0mImportError\u001b[0m\u001b[0;34m(\u001b[0m\u001b[0mmsg\u001b[0m\u001b[0;34m)\u001b[0m\u001b[0;34m\u001b[0m\u001b[0;34m\u001b[0m\u001b[0m\n\u001b[0m\u001b[1;32m    157\u001b[0m     \u001b[0;32mtry\u001b[0m\u001b[0;34m:\u001b[0m\u001b[0;34m\u001b[0m\u001b[0;34m\u001b[0m\u001b[0m\n\u001b[1;32m    158\u001b[0m         \u001b[0;32mreturn\u001b[0m \u001b[0mglobals\u001b[0m\u001b[0;34m(\u001b[0m\u001b[0;34m)\u001b[0m\u001b[0;34m[\u001b[0m\u001b[0mname\u001b[0m\u001b[0;34m]\u001b[0m\u001b[0;34m\u001b[0m\u001b[0;34m\u001b[0m\u001b[0m\n",
            "\u001b[0;31mImportError\u001b[0m: \n`load_boston` has been removed from scikit-learn since version 1.2.\n\nThe Boston housing prices dataset has an ethical problem: as\ninvestigated in [1], the authors of this dataset engineered a\nnon-invertible variable \"B\" assuming that racial self-segregation had a\npositive impact on house prices [2]. Furthermore the goal of the\nresearch that led to the creation of this dataset was to study the\nimpact of air quality but it did not give adequate demonstration of the\nvalidity of this assumption.\n\nThe scikit-learn maintainers therefore strongly discourage the use of\nthis dataset unless the purpose of the code is to study and educate\nabout ethical issues in data science and machine learning.\n\nIn this special case, you can fetch the dataset from the original\nsource::\n\n    import pandas as pd\n    import numpy as np\n\n    data_url = \"http://lib.stat.cmu.edu/datasets/boston\"\n    raw_df = pd.read_csv(data_url, sep=\"\\s+\", skiprows=22, header=None)\n    data = np.hstack([raw_df.values[::2, :], raw_df.values[1::2, :2]])\n    target = raw_df.values[1::2, 2]\n\nAlternative datasets include the California housing dataset and the\nAmes housing dataset. You can load the datasets as follows::\n\n    from sklearn.datasets import fetch_california_housing\n    housing = fetch_california_housing()\n\nfor the California housing dataset and::\n\n    from sklearn.datasets import fetch_openml\n    housing = fetch_openml(name=\"house_prices\", as_frame=True)\n\nfor the Ames housing dataset.\n\n[1] M Carlisle.\n\"Racist data destruction?\"\n<https://medium.com/@docintangible/racist-data-destruction-113e3eff54a8>\n\n[2] Harrison Jr, David, and Daniel L. Rubinfeld.\n\"Hedonic housing prices and the demand for clean air.\"\nJournal of environmental economics and management 5.1 (1978): 81-102.\n<https://www.researchgate.net/publication/4974606_Hedonic_housing_prices_and_the_demand_for_clean_air>\n",
            "",
            "\u001b[0;31m---------------------------------------------------------------------------\u001b[0;32m\nNOTE: If your import is failing due to a missing package, you can\nmanually install dependencies using either !pip or !apt.\n\nTo view examples of installing some common dependencies, click the\n\"Open Examples\" button below.\n\u001b[0;31m---------------------------------------------------------------------------\u001b[0m\n"
          ],
          "errorDetails": {
            "actions": [
              {
                "action": "open_url",
                "actionText": "Open Examples",
                "url": "/notebooks/snippets/importing_libraries.ipynb"
              }
            ]
          }
        }
      ],
      "source": [
        "import numpy as np\n",
        "import pandas as pd\n",
        "import sklearn\n",
        "from sklearn.model_selection import train_test_split\n",
        "from sklearn.linear_model import LinearRegression\n",
        "from sklearn.tree import DecisionTreeRegressor\n",
        "from sklearn.svm import SVR\n",
        "from sklearn.neural_network import MLPRegressor\n",
        "from sklearn.metrics import r2_score\n",
        "import matplotlib.pyplot as plt\n",
        "\n",
        "import warnings\n",
        "warnings.filterwarnings('ignore')\n",
        "\n",
        "from sklearn.datasets import load_boston\n",
        "\n",
        "# ImportError: `load_boston` has been removed from scikit-learn since version 1.2.\n",
        "# --> 데이터 제공X"
      ]
    },
    {
      "cell_type": "markdown",
      "source": [
        "## 데이터 불러오기"
      ],
      "metadata": {
        "id": "ZCYWFkdTuFtT"
      }
    },
    {
      "cell_type": "code",
      "source": [
        "boston = load_boston()"
      ],
      "metadata": {
        "id": "fG4gFHNAuGBA"
      },
      "execution_count": null,
      "outputs": []
    },
    {
      "cell_type": "code",
      "source": [
        "# 필요한 데이터 추출하기  dataset.속성, dataset[배열] 모두 가능\n",
        "data = boston.data\n",
        "label = boston.target\n",
        "columns = boston.feature_names"
      ],
      "metadata": {
        "id": "1z1DvxlNuIlX"
      },
      "execution_count": null,
      "outputs": []
    },
    {
      "cell_type": "code",
      "source": [
        "data = pd.DataFrame(data, columns=columns)\n",
        "data.head()"
      ],
      "metadata": {
        "id": "5dzbjlyavxqf"
      },
      "execution_count": null,
      "outputs": []
    },
    {
      "cell_type": "code",
      "source": [
        "data.shape"
      ],
      "metadata": {
        "id": "fkFWKIW7v0rI"
      },
      "execution_count": null,
      "outputs": []
    },
    {
      "cell_type": "markdown",
      "source": [
        "## 데이터셋 준비하기"
      ],
      "metadata": {
        "id": "_nGJMuhKuRPb"
      }
    },
    {
      "cell_type": "code",
      "source": [
        "X_train, X_test, y_train, y_test= train_test_split(data, label, test_size=0.2, random_state=2023)\n",
        "print(X_train['RM']) # 보스턴 집 방의 개수"
      ],
      "metadata": {
        "id": "o-Y0JrPGuNL7"
      },
      "execution_count": null,
      "outputs": []
    },
    {
      "cell_type": "markdown",
      "source": [
        "## 모델링"
      ],
      "metadata": {
        "id": "6LB_QvxIuXYt"
      }
    },
    {
      "cell_type": "markdown",
      "source": [
        "### 1. 선형 회귀(Linear Regression)"
      ],
      "metadata": {
        "id": "A-GaNSVYxVnD"
      }
    },
    {
      "cell_type": "markdown",
      "source": [
        "### 1.1. 단순 선형 회귀(Simple Linear Regression)"
      ],
      "metadata": {
        "id": "-72ggMC9v3at"
      }
    },
    {
      "cell_type": "code",
      "source": [
        "#1차원 배열 -> 2차원 배열로 바꿔주기 '(-1, 1)' 사용\n",
        "# 차원 변경 후 5개만 확인해 보기\n",
        "X_train['RM'].values.reshape(-1, 1)[:5]"
      ],
      "metadata": {
        "id": "IZlB0EDsuWd5"
      },
      "execution_count": null,
      "outputs": []
    },
    {
      "cell_type": "code",
      "source": [
        "# train\n",
        "sim_lr = LinearRegression()\n",
        "sim_lr.fit(X_train['RM'].values.reshape((-1,1)) ,y_train)"
      ],
      "metadata": {
        "id": "EzN_FfiLwULZ"
      },
      "execution_count": null,
      "outputs": []
    },
    {
      "cell_type": "markdown",
      "source": [
        "## 모델 평가하기"
      ],
      "metadata": {
        "id": "KSVXMl7Qux0Z"
      }
    },
    {
      "cell_type": "code",
      "source": [
        "# 예측값. 방의 개수로 예측\n",
        "y_pred = sim_lr.predict(X_test['RM'].values.reshape((-1,1)))\n",
        "print(y_pred)"
      ],
      "metadata": {
        "id": "iX-w8xwxuxef"
      },
      "execution_count": null,
      "outputs": []
    },
    {
      "cell_type": "code",
      "source": [
        "print('단순 선형 회귀, R2: {:.4f}'.format(r2_score(y_test, y_pred)))\n",
        "#.4f ===> 실수, 소수점 넷째자리까지"
      ],
      "metadata": {
        "id": "COEScd9-ww7_"
      },
      "execution_count": null,
      "outputs": []
    },
    {
      "cell_type": "markdown",
      "source": [
        "## 결과 시각화"
      ],
      "metadata": {
        "id": "f2aCq0aswytr"
      }
    },
    {
      "cell_type": "code",
      "source": [
        "line_X = np.linspace(np.min(X_test['RM']), np.max(X_test['RM']), 10)\n",
        "line_y = sim_lr.predict(line_X.reshape(-1,1))\n",
        "\n",
        "# 산점도(scatter plot), 회귀선(regression line), 각주(legend) 나타내기\n",
        "plt.scatter(X_test['RM'], y_test, s=10, c='black')\n",
        "plt.plot(line_X, line_y, c='red')\n",
        "plt.legend(['Regression line','Test data sample'], loc='upper left')"
      ],
      "metadata": {
        "id": "dK5C9kBRwz2N"
      },
      "execution_count": null,
      "outputs": []
    },
    {
      "cell_type": "markdown",
      "source": [
        "--> 너무 분산되어 나옴. 실제 값과 예측값의 차이多. Room 하나만 가지고 평가하기 부족."
      ],
      "metadata": {
        "id": "JLS5lo4p0vlp"
      }
    },
    {
      "cell_type": "markdown",
      "source": [
        "## 모델링"
      ],
      "metadata": {
        "id": "v5TU0Xk0zHMn"
      }
    },
    {
      "cell_type": "markdown",
      "source": [
        "### 1.2. 다중 선형 회귀(Multi Linear Regression)"
      ],
      "metadata": {
        "id": "EspFTW43w-vp"
      }
    },
    {
      "cell_type": "code",
      "source": [
        "# Multiple Linear Regression\n",
        "mul_lr = LinearRegression()\n",
        "\n",
        "# 전체 columns를 사용\n",
        "mul_lr.fit(X_train, y_train)"
      ],
      "metadata": {
        "id": "XA1v9QtpxC5x"
      },
      "execution_count": null,
      "outputs": []
    },
    {
      "cell_type": "markdown",
      "source": [
        "## 모델 평가하기"
      ],
      "metadata": {
        "id": "j8dhNgcbxMQj"
      }
    },
    {
      "cell_type": "code",
      "source": [
        "y_pred = mul_lr.predict(X_test)\n",
        "\n",
        "#y 테스트용 데이터, 예측치\n",
        "print('다중 선형 회귀, R2: {:.4f}'.format(r2_score(y_test, y_pred)))"
      ],
      "metadata": {
        "id": "MqzFZrP7xPU2"
      },
      "execution_count": null,
      "outputs": []
    },
    {
      "cell_type": "markdown",
      "source": [
        "## 모델링"
      ],
      "metadata": {
        "id": "J2wl1R6szRJl"
      }
    },
    {
      "cell_type": "markdown",
      "source": [
        "### 2. 결정 트리 모델(Decision Tree Regressor)"
      ],
      "metadata": {
        "id": "aFfTFJcBxR3E"
      }
    },
    {
      "cell_type": "markdown",
      "source": [
        "### 2.1. 단순 결정 트리 모델(Simple Decision Tree Regressor)"
      ],
      "metadata": {
        "id": "xaEL2VZlyKOq"
      }
    },
    {
      "cell_type": "code",
      "source": [
        "dt_regr =DecisionTreeRegressor(max_depth=2)"
      ],
      "metadata": {
        "id": "zVb4HnzTymOZ"
      },
      "execution_count": null,
      "outputs": []
    },
    {
      "cell_type": "code",
      "source": [
        "# train\n",
        "# 1차원 배열 -> 2차원 배열로 바꿔주기\n",
        "dt_regr.fit(X_train['RM'].values.reshape((-1,1)), y_train)"
      ],
      "metadata": {
        "id": "DwufIR3symL4"
      },
      "execution_count": null,
      "outputs": []
    },
    {
      "cell_type": "code",
      "source": [
        "#예측값\n",
        "y_pred = dt_regr.predict(X_test['RM'].values.reshape(-1,1))\n",
        "\n",
        "print('단순 결정 트리 회귀 R2: {:.4f}'.format(r2_score(y_test, y_pred)))"
      ],
      "metadata": {
        "id": "AuGxhHP7ymGA"
      },
      "execution_count": null,
      "outputs": []
    },
    {
      "cell_type": "markdown",
      "source": [
        "--> max_depth 변화를 줘 본다. 너무 높이면 학습 데이터와 오버피팅된다. 테스트용 데이터와 격차가 벌어짐.   \n",
        "반복문으로 가장 좋은 depth를 찾는다.\n"
      ],
      "metadata": {
        "id": "2KF58VXczmFN"
      }
    },
    {
      "cell_type": "code",
      "source": [
        "#배열 만들기\n",
        "arr = np.arange(1,11)\n",
        "print(arr)\n",
        "\n",
        "best_depth = 1\n",
        "best_r2 = 0\n",
        "for depth in arr:\n",
        "  dt_regr = DecisionTreeRegressor(max_depth=depth)\n",
        "  dt_regr.fit(X_train['RM'].values.reshape((-1,1)), y_train)\n",
        "  y_pred = dt_regr.predict(X_test['RM'].values.reshape(-1,1))\n",
        "\n",
        "  temp_r2 = r2_score(y_test, y_pred)\n",
        "  print('\\n단순 결정 트리 회귀 depth={} R2: {:.4f}'.format(depth, temp_r2))\n",
        "\n",
        "  if best_r2 < temp_r2:\n",
        "    best_depth = depth\n",
        "    best_r2 = temp_r2\n",
        "\n",
        "print('최적의 결과는 depth={} r2={:.4f}'.format(best_depth, best_r2))"
      ],
      "metadata": {
        "id": "bCaqOvY3z7_S"
      },
      "execution_count": null,
      "outputs": []
    },
    {
      "cell_type": "markdown",
      "source": [
        "## 모델링"
      ],
      "metadata": {
        "id": "yVNQqjkDzifT"
      }
    },
    {
      "cell_type": "markdown",
      "source": [
        "### 2.2. 다중 결정 트리 모델(Multi Decision Tree Regressor)"
      ],
      "metadata": {
        "id": "r3E8zf-FyUWv"
      }
    },
    {
      "cell_type": "code",
      "source": [
        "dt_regr = DecisionTreeRegressor(max_depth=8)\n",
        "dt_regr.fit(X_train, y_train)\n",
        "\n",
        "\n",
        "#배열 만들기\n",
        "arr = np.arange(1,11)\n",
        "print(arr)\n",
        "\n",
        "best_depth = 1\n",
        "best_r2 = 0\n",
        "for depth in arr:\n",
        "  dt_regr = DecisionTreeRegressor(max_depth=depth)\n",
        "  dt_regr.fit(X_train, y_train)\n",
        "  y_pred = dt_regr.predict(X_test)\n",
        "\n",
        "  temp_r2 = r2_score(y_test, y_pred)\n",
        "  print('\\n다중 결정 트리 회귀 depth={} R2: {:.4f}'.format(depth, temp_r2))\n",
        "\n",
        "  if best_r2 < temp_r2:\n",
        "    best_depth = depth\n",
        "    best_r2 = temp_r2\n",
        "\n",
        "print('최적의 결과는 depth={} r2={:.4f}'.format(best_depth, best_r2))"
      ],
      "metadata": {
        "id": "1EY9eMRD2bp-"
      },
      "execution_count": null,
      "outputs": []
    },
    {
      "cell_type": "code",
      "source": [
        "# # 예측값\n",
        "# y_pred = dt_regr.predict(X_test)\n",
        "# print('다중 결정 트리 R2: {:.4f}'.format(r2_score(y_test, y_pred)))"
      ],
      "metadata": {
        "id": "b2MwhKSiz-da"
      },
      "execution_count": null,
      "outputs": []
    },
    {
      "cell_type": "markdown",
      "source": [
        "### 3. 서포트 벡터 머신 회귀(Support Vector Machine Regressor)"
      ],
      "metadata": {
        "id": "uNJvGOHj3768"
      }
    },
    {
      "cell_type": "markdown",
      "source": [
        "### 3.1. 단순 서포트 벡터 머신 회귀"
      ],
      "metadata": {
        "id": "GoBo_bRI4CoC"
      }
    },
    {
      "cell_type": "code",
      "source": [
        "# train\n",
        "svm_regr = SVR(C=1)\n",
        "\n",
        "svm_regr.fit(X_train['RM'].values.reshape(-1,1), y_train)"
      ],
      "metadata": {
        "id": "LuDYuGvgyl-J"
      },
      "execution_count": null,
      "outputs": []
    },
    {
      "cell_type": "markdown",
      "source": [
        "## 모델 평가하기"
      ],
      "metadata": {
        "id": "RhKCTiSX4WSJ"
      }
    },
    {
      "cell_type": "code",
      "source": [
        "# 예측값\n",
        "y_pred = svm_regr.predict(X_test['RM'].values.reshape(-1,1))\n",
        "\n",
        "print('단순 서포트 벡터 머신 회귀 R2: {:.4f}'.format(r2_score(y_test,y_pred)))"
      ],
      "metadata": {
        "id": "jnIDA2zGylUO"
      },
      "execution_count": null,
      "outputs": []
    },
    {
      "cell_type": "markdown",
      "source": [
        "## 학습 결과 시각화하기"
      ],
      "metadata": {
        "id": "G78N99ZR6RXn"
      }
    },
    {
      "cell_type": "code",
      "source": [
        "# X축, y축 지정\n",
        "line_X = np.linspace(np.min(X_test['RM']), np.max(X_test['RM']), 100)\n",
        "line_y = svm_regr.predict(line_X.reshape(-1,1))\n",
        "\n",
        "# 산점도(scatter plot), 회귀선(regression line), 각주(legend) 나타내기\n",
        "plt.scatter(X_test['RM'], y_test, c='black')\n",
        "plt.plot(line_X, line_y, c='red')\n",
        "plt.legend(['Regression line', 'Test data sample'], loc='upper left')"
      ],
      "metadata": {
        "id": "bL_TzHab6Wur"
      },
      "execution_count": null,
      "outputs": []
    },
    {
      "cell_type": "markdown",
      "source": [
        "### 3.2. 다중 서포트 벡터 머신 회귀"
      ],
      "metadata": {
        "id": "FSYa0rk76Ntn"
      }
    },
    {
      "cell_type": "code",
      "source": [
        "svm_regr = SVR(C=20)\n",
        "svm_regr.fit(X_train, y_train)\n",
        "y_pred = svm_regr.predict(X_test)\n",
        "print('다중 서포트 벡터 머신 회귀, R2 : {:.4f}'.format(r2_score(y_test, y_pred)))"
      ],
      "metadata": {
        "id": "5vAkCndLxfWB"
      },
      "execution_count": null,
      "outputs": []
    },
    {
      "cell_type": "code",
      "source": [
        "# 배열 만들기\n",
        "arr = np.arange(10000,25000)\n",
        "arr"
      ],
      "metadata": {
        "id": "8_bgncA66qNw"
      },
      "execution_count": null,
      "outputs": []
    },
    {
      "cell_type": "code",
      "source": [
        "# 최적의 c값 찾기\n",
        "best_C = 0\n",
        "best_r2 = 0\n",
        "\n",
        "for C in arr:\n",
        "  svm_regr = SVR(C=C)\n",
        "  svm_regr.fit(X_train, y_train)\n",
        "  y_pred = svm_regr.predict(X_test)\n",
        "  #print('다중 서포트 벡터 머신 회귀, R2 : {:.4f}'.format(r2_score(y_test, y_pred)))\n",
        "\n",
        "  if best_r2 < temp_r2:\n",
        "    best_depth = depth\n",
        "    best_r2 = temp_r2\n",
        "\n",
        "print('최적의 결과는 depth={} r2={:.4f}'.format(best_depth, best_r2))"
      ],
      "metadata": {
        "id": "RrM93oiW6vDm"
      },
      "execution_count": null,
      "outputs": []
    },
    {
      "cell_type": "markdown",
      "source": [
        "## 모델링"
      ],
      "metadata": {
        "id": "T6JG-QaE7F9j"
      }
    },
    {
      "cell_type": "markdown",
      "source": [
        "### 4. 멀티 레이어 퍼셉트론 회귀(Multi Layer Perceptron Regressor)"
      ],
      "metadata": {
        "id": "2r_h94fB7Gps"
      }
    },
    {
      "cell_type": "code",
      "source": [
        "# train\n",
        "mlp_regr = MLPRegressor(solver='adam',hidden_layer_sizes=100)\n",
        "# solver: lbfgs, sgd, adam 등\n",
        "\n",
        "mlp_regr.fit(X_train, y_train)"
      ],
      "metadata": {
        "id": "1qf9cAb960E9"
      },
      "execution_count": null,
      "outputs": []
    },
    {
      "cell_type": "code",
      "source": [
        "# 예측값\n",
        "y_pred = mlp_regr.predict(X_test)\n",
        "\n",
        "print('다중 MLP 회귀, R2: {:.4f}'.format(r2_score(y_test,y_pred)))"
      ],
      "metadata": {
        "id": "LvFPLkbT7XFa"
      },
      "execution_count": null,
      "outputs": []
    },
    {
      "cell_type": "code",
      "source": [
        "# train\n",
        "#max_iter 추가\n",
        "\n",
        "mlp_regr = MLPRegressor(solver='adam',hidden_layer_sizes=100,max_iter=1000)\n",
        "# solver: lbfgs, sgd, adam 등\n",
        "\n",
        "mlp_regr.fit(X_train, y_train)"
      ],
      "metadata": {
        "id": "I7txJsYT7qCt"
      },
      "execution_count": null,
      "outputs": []
    },
    {
      "cell_type": "code",
      "source": [
        "# 예측값\n",
        "y_pred = mlp_regr.predict(X_test)\n",
        "\n",
        "print('다중 MLP 회귀, R2: {:.4f}'.format(r2_score(y_test,y_pred)))"
      ],
      "metadata": {
        "id": "C2CIoKrd79y1"
      },
      "execution_count": null,
      "outputs": []
    }
  ]
}