{
  "nbformat": 4,
  "nbformat_minor": 0,
  "metadata": {
    "colab": {
      "provenance": []
    },
    "kernelspec": {
      "name": "python3",
      "display_name": "Python 3"
    },
    "language_info": {
      "name": "python"
    }
  },
  "cells": [
    {
      "cell_type": "code",
      "execution_count": 1,
      "metadata": {
        "id": "7jqGlhpSfFzu"
      },
      "outputs": [],
      "source": [
        "import numpy as np\n",
        "import matplotlib.pyplot as plt"
      ]
    },
    {
      "cell_type": "code",
      "source": [
        "# AND 게이트 가중치 만들기\n",
        "def AND(a, b):\n",
        "  input = np.array([a,b])\n",
        "\n",
        "  # 가중치 설정\n",
        "  weights = np.array([0.4, 0.4])\n",
        "  bias = -0.6\n",
        "\n",
        "  # 출력값\n",
        "  value = np.sum(input * weights) + bias\n",
        "\n",
        "  # ==> 이렇게 하면 뉴럴 한 개의 프로그램을 짠 것\n",
        "\n",
        "  # 반환값\n",
        "  if value <= 0:\n",
        "    return 0\n",
        "  else:\n",
        "    return 1\n",
        "\n",
        "print(AND(0,0))\n",
        "print(AND(0,1))\n",
        "print(AND(1,0))\n",
        "print(AND(1,1))"
      ],
      "metadata": {
        "colab": {
          "base_uri": "https://localhost:8080/"
        },
        "id": "5xaMNGmJfORL",
        "outputId": "a987b5bf-d307-4e37-e869-2990948bdd8a"
      },
      "execution_count": 4,
      "outputs": [
        {
          "output_type": "stream",
          "name": "stdout",
          "text": [
            "0\n",
            "0\n",
            "0\n",
            "1\n"
          ]
        }
      ]
    },
    {
      "cell_type": "code",
      "source": [
        "# AND 게이트 시각화\n",
        "x1 = np.arange(-2, 2, 0.01) # input 값\n",
        "x2 = np.arange(-2, 2, 0.01) # output 값\n",
        "bias = -0.6\n",
        "\n",
        "y = (-0.4 * x1 - bias) / 0.4\n",
        "\n",
        "plt.plot(x1, y, 'r--')\n",
        "plt.scatter(0,0, color='orange', marker='o',s=150)\n",
        "plt.scatter(0,1, color='orange', marker='o',s=150)\n",
        "plt.scatter(1,0, color='orange', marker='o',s=150)\n",
        "plt.scatter(1,1, color='black', marker='^',s=150)\n",
        "plt.xlim(-0.5,1.5)\n",
        "plt.ylim(-0.5,1.5)\n",
        "plt.grid()\n",
        "plt.show()"
      ],
      "metadata": {
        "colab": {
          "base_uri": "https://localhost:8080/",
          "height": 435
        },
        "id": "cG6aajVLfYNS",
        "outputId": "b0782df4-b250-4912-a673-65f38332a73b"
      },
      "execution_count": 5,
      "outputs": [
        {
          "output_type": "display_data",
          "data": {
            "text/plain": [
              "<Figure size 640x480 with 1 Axes>"
            ],
            "image/png": "[encoded data removed]"
          },
          "metadata": {}
        }
      ]
    },
    {
      "cell_type": "code",
      "source": [
        "# OR 게이트 가중치 만들기\n",
        "def OR(a, b):\n",
        "  input = np.array([a,b])\n",
        "\n",
        "  #가중치 설정\n",
        "  weights = np.array([0.4,0.4])\n",
        "  bias = -0.3\n",
        "\n",
        "  #출력값\n",
        "  value = np.sum(input * weights) + bias\n",
        "\n",
        "  #반환값\n",
        "  if value <= 0:\n",
        "    return 0\n",
        "  else:\n",
        "    return 1\n",
        "\n",
        "print(OR(0,0))\n",
        "print(OR(0,1))\n",
        "print(OR(1,0))\n",
        "print(OR(1,1))"
      ],
      "metadata": {
        "colab": {
          "base_uri": "https://localhost:8080/"
        },
        "id": "Zpdvt_fBfjI3",
        "outputId": "3ec87fc0-43f3-421c-866c-d3e06ba43d9a"
      },
      "execution_count": 6,
      "outputs": [
        {
          "output_type": "stream",
          "name": "stdout",
          "text": [
            "0\n",
            "1\n",
            "1\n",
            "1\n"
          ]
        }
      ]
    },
    {
      "cell_type": "code",
      "source": [
        "# NAND 게이트 가중치 만들기\n",
        "def NAND(a, b):\n",
        "  input = np.array([a,b])\n",
        "\n",
        "  #가중치 설정\n",
        "  weights = np.array([-0.6,-0.6])\n",
        "  bias = 0.7\n",
        "\n",
        "  #출력값\n",
        "  value = np.sum(input * weights) + bias\n",
        "\n",
        "  #반환값\n",
        "  if value <= 0:\n",
        "    return 0\n",
        "  else:\n",
        "    return 1\n",
        "\n",
        "print(NAND(0,0))\n",
        "print(NAND(0,1))\n",
        "print(NAND(1,0))\n",
        "print(NAND(1,1))"
      ],
      "metadata": {
        "colab": {
          "base_uri": "https://localhost:8080/"
        },
        "id": "gSl_emGVftt9",
        "outputId": "8494f76c-6d50-4d9b-d635-00eec4fdf8df"
      },
      "execution_count": 7,
      "outputs": [
        {
          "output_type": "stream",
          "name": "stdout",
          "text": [
            "1\n",
            "1\n",
            "1\n",
            "0\n"
          ]
        }
      ]
    },
    {
      "cell_type": "code",
      "source": [
        "# XOR 가중치 만들기\n",
        "def XOR(x1, x2):\n",
        "  s1 = NAND(x1, x2)\n",
        "  s2 = OR(x1, x2)\n",
        "  y = AND(s1, s2)\n",
        "\n",
        "  return y\n",
        "\n",
        "print(XOR(0,0))\n",
        "print(XOR(0,1))\n",
        "print(XOR(1,0))\n",
        "print(XOR(1,1))"
      ],
      "metadata": {
        "colab": {
          "base_uri": "https://localhost:8080/"
        },
        "id": "9zQO5KztfyRu",
        "outputId": "ea959c0e-f336-4b56-cced-e25dce8bda5d"
      },
      "execution_count": 8,
      "outputs": [
        {
          "output_type": "stream",
          "name": "stdout",
          "text": [
            "0\n",
            "1\n",
            "1\n",
            "0\n"
          ]
        }
      ]
    },
    {
      "cell_type": "code",
      "source": [],
      "metadata": {
        "id": "So-nyaS1fytH"
      },
      "execution_count": null,
      "outputs": []
    }
  ]
}