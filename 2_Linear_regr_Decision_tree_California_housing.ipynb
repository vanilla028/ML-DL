{
  "nbformat": 4,
  "nbformat_minor": 0,
  "metadata": {
    "colab": {
      "provenance": [],
      "toc_visible": true
    },
    "kernelspec": {
      "name": "python3",
      "display_name": "Python 3"
    },
    "language_info": {
      "name": "python"
    }
  },
  "cells": [
    {
      "cell_type": "markdown",
      "source": [
        "# **캘리포니아 주택 가격 회귀 모델 만들기**\n",
        "\n",
        "- Target: Price  \n",
        "- Fetures:\n",
        "        - MedInc        median income in block group\n",
        "        - HouseAge      median house age in block group\n",
        "        - AveRooms      average number of rooms per household\n",
        "        - AveBedrms     average number of bedrooms per household\n",
        "        - Population    block group MedInc\n",
        "        - AveOccup      average number of household members\n",
        "        - Latitude      block group latitude\n",
        "        - Longitude     block group longitude\n",
        "\n"
      ],
      "metadata": {
        "id": "P_QxNVtzfvFs"
      }
    },
    {
      "cell_type": "code",
      "execution_count": 31,
      "metadata": {
        "id": "wpGeIeHRYTYv"
      },
      "outputs": [],
      "source": [
        "import numpy as np\n",
        "import pandas as pd\n",
        "import sklearn\n",
        "import matplotlib.pyplot as plt\n",
        "from sklearn.datasets import fetch_california_housing\n",
        "from sklearn.linear_model import LinearRegression\n",
        "from sklearn.tree import DecisionTreeRegressor\n",
        "from sklearn.metrics import r2_score\n",
        "from sklearn.model_selection import train_test_split\n",
        "import warnings\n",
        "warnings.filterwarnings('ignore')"
      ]
    },
    {
      "cell_type": "markdown",
      "source": [
        "## 캘리포니아 주택 가격 데이터 불러오기"
      ],
      "metadata": {
        "id": "TFSoURG9gy9r"
      }
    },
    {
      "cell_type": "code",
      "source": [
        "dataset = fetch_california_housing()\n",
        "print(dataset.keys())"
      ],
      "metadata": {
        "colab": {
          "base_uri": "https://localhost:8080/"
        },
        "id": "B_a3LyGng3Db",
        "outputId": "80e49699-407a-4a6b-f93b-2bbd2eece81d"
      },
      "execution_count": null,
      "outputs": [
        {
          "output_type": "stream",
          "name": "stdout",
          "text": [
            "dict_keys(['data', 'target', 'frame', 'target_names', 'feature_names', 'DESCR'])\n"
          ]
        }
      ]
    },
    {
      "cell_type": "code",
      "source": [
        "print(dataset.DESCR) # 또는 print(dataset['DESCR'])"
      ],
      "metadata": {
        "colab": {
          "base_uri": "https://localhost:8080/"
        },
        "id": "gjSveXl2g8j1",
        "outputId": "ed8d5b14-3094-46f7-c925-7d4438b88bf0"
      },
      "execution_count": null,
      "outputs": [
        {
          "output_type": "stream",
          "name": "stdout",
          "text": [
            ".. _california_housing_dataset:\n",
            "\n",
            "California Housing dataset\n",
            "--------------------------\n",
            "\n",
            "**Data Set Characteristics:**\n",
            "\n",
            "    :Number of Instances: 20640\n",
            "\n",
            "    :Number of Attributes: 8 numeric, predictive attributes and the target\n",
            "\n",
            "    :Attribute Information:\n",
            "        - MedInc        median income in block group\n",
            "        - HouseAge      median house age in block group\n",
            "        - AveRooms      average number of rooms per household\n",
            "        - AveBedrms     average number of bedrooms per household\n",
            "        - Population    block group population\n",
            "        - AveOccup      average number of household members\n",
            "        - Latitude      block group latitude\n",
            "        - Longitude     block group longitude\n",
            "\n",
            "    :Missing Attribute Values: None\n",
            "\n",
            "This dataset was obtained from the StatLib repository.\n",
            "https://www.dcc.fc.up.pt/~ltorgo/Regression/cal_housing.html\n",
            "\n",
            "The target variable is the median house value for California districts,\n",
            "expressed in hundreds of thousands of dollars ($100,000).\n",
            "\n",
            "This dataset was derived from the 1990 U.S. census, using one row per census\n",
            "block group. A block group is the smallest geographical unit for which the U.S.\n",
            "Census Bureau publishes sample data (a block group typically has a population\n",
            "of 600 to 3,000 people).\n",
            "\n",
            "A household is a group of people residing within a home. Since the average\n",
            "number of rooms and bedrooms in this dataset are provided per household, these\n",
            "columns may take surprisingly large values for block groups with few households\n",
            "and many empty houses, such as vacation resorts.\n",
            "\n",
            "It can be downloaded/loaded using the\n",
            ":func:`sklearn.datasets.fetch_california_housing` function.\n",
            "\n",
            ".. topic:: References\n",
            "\n",
            "    - Pace, R. Kelley and Ronald Barry, Sparse Spatial Autoregressions,\n",
            "      Statistics and Probability Letters, 33 (1997) 291-297\n",
            "\n"
          ]
        }
      ]
    },
    {
      "cell_type": "code",
      "source": [
        "# 필요한 데이터 추출하기  dataset.속성, dataset[배열] 모두 가능\n",
        "data = dataset.data\n",
        "label = dataset.target\n",
        "columns = dataset.feature_names\n",
        "\n",
        "data = pd.DataFrame(data, columns=columns)\n",
        "print(data.head())"
      ],
      "metadata": {
        "colab": {
          "base_uri": "https://localhost:8080/"
        },
        "id": "Bn5Pq9FAhGKX",
        "outputId": "a6849cc1-30f7-45d6-ea78-346dd59541e0"
      },
      "execution_count": null,
      "outputs": [
        {
          "output_type": "stream",
          "name": "stdout",
          "text": [
            "   MedInc  HouseAge  AveRooms  AveBedrms  Population  AveOccup  Latitude  \\\n",
            "0  8.3252      41.0  6.984127   1.023810       322.0  2.555556     37.88   \n",
            "1  8.3014      21.0  6.238137   0.971880      2401.0  2.109842     37.86   \n",
            "2  7.2574      52.0  8.288136   1.073446       496.0  2.802260     37.85   \n",
            "3  5.6431      52.0  5.817352   1.073059       558.0  2.547945     37.85   \n",
            "4  3.8462      52.0  6.281853   1.081081       565.0  2.181467     37.85   \n",
            "\n",
            "   Longitude  \n",
            "0    -122.23  \n",
            "1    -122.22  \n",
            "2    -122.24  \n",
            "3    -122.25  \n",
            "4    -122.25  \n"
          ]
        }
      ]
    },
    {
      "cell_type": "code",
      "source": [
        "print(data.shape)"
      ],
      "metadata": {
        "id": "jQ9Eiqp6hfu9",
        "colab": {
          "base_uri": "https://localhost:8080/"
        },
        "outputId": "92f3aae4-bc45-45a8-8079-a2b2942e6a6c"
      },
      "execution_count": null,
      "outputs": [
        {
          "output_type": "stream",
          "name": "stdout",
          "text": [
            "(20640, 8)\n"
          ]
        }
      ]
    },
    {
      "cell_type": "markdown",
      "source": [
        "##  데이터셋 준비하기"
      ],
      "metadata": {
        "id": "lOj5L_WWyMsE"
      }
    },
    {
      "cell_type": "code",
      "source": [
        "X_train, X_test, y_train, y_test = train_test_split(data, label, test_size=0.2, random_state=2023)"
      ],
      "metadata": {
        "id": "S0vQxtfJyIQ9"
      },
      "execution_count": null,
      "outputs": []
    },
    {
      "cell_type": "code",
      "source": [
        "print(X_train['MedInc'])"
      ],
      "metadata": {
        "colab": {
          "base_uri": "https://localhost:8080/"
        },
        "id": "w8UPIDsdyiey",
        "outputId": "8fccda91-cedf-48d3-ea48-e6f2de0f9033"
      },
      "execution_count": null,
      "outputs": [
        {
          "output_type": "stream",
          "name": "stdout",
          "text": [
            "20539    4.2198\n",
            "17336    5.7306\n",
            "15150    3.1607\n",
            "11440    6.2984\n",
            "3988     4.9250\n",
            "          ...  \n",
            "6659     3.1875\n",
            "5852     3.5875\n",
            "6049     3.0429\n",
            "19127    4.0729\n",
            "14790    2.9286\n",
            "Name: MedInc, Length: 16512, dtype: float64\n"
          ]
        }
      ]
    },
    {
      "cell_type": "code",
      "source": [
        "# train 전체 개수\n",
        "print(X_train['MedInc'][:5])"
      ],
      "metadata": {
        "colab": {
          "base_uri": "https://localhost:8080/"
        },
        "id": "hXGTYuDVympG",
        "outputId": "11b3648d-2b22-4967-b410-8b639cdc49f3"
      },
      "execution_count": null,
      "outputs": [
        {
          "output_type": "stream",
          "name": "stdout",
          "text": [
            "20539    4.2198\n",
            "17336    5.7306\n",
            "15150    3.1607\n",
            "11440    6.2984\n",
            "3988     4.9250\n",
            "Name: MedInc, dtype: float64\n"
          ]
        }
      ]
    },
    {
      "cell_type": "markdown",
      "source": [
        "## **모델링**"
      ],
      "metadata": {
        "id": "-NP2Il5SzHa2"
      }
    },
    {
      "cell_type": "markdown",
      "source": [
        "## **1. 선형 회귀**"
      ],
      "metadata": {
        "id": "QxfmCUGEQjpr"
      }
    },
    {
      "cell_type": "markdown",
      "source": [
        "### 1.1. 단순 선형 회귀  \n",
        "하나의 column을 사용."
      ],
      "metadata": {
        "id": "Esi13PSPPkRG"
      }
    },
    {
      "cell_type": "code",
      "source": [
        "sim_lr = LinearRegression()\n",
        "\n",
        "# train\n",
        "# 1차원 배열 -> 2차원 배열로 바꿔주기\n",
        "sim_lr.fit(X_train['MedInc'].values.reshape((-1, 1)), y_train)"
      ],
      "metadata": {
        "colab": {
          "base_uri": "https://localhost:8080/",
          "height": 75
        },
        "id": "isldDSmbNVjt",
        "outputId": "88eeb6c2-e562-4307-f010-0a78458f0804"
      },
      "execution_count": 22,
      "outputs": [
        {
          "output_type": "execute_result",
          "data": {
            "text/plain": [
              "LinearRegression()"
            ],
            "text/html": [
              "<style>#sk-container-id-1 {color: black;background-color: white;}#sk-container-id-1 pre{padding: 0;}#sk-container-id-1 div.sk-toggleable {background-color: white;}#sk-container-id-1 label.sk-toggleable__label {cursor: pointer;display: block;width: 100%;margin-bottom: 0;padding: 0.3em;box-sizing: border-box;text-align: center;}#sk-container-id-1 label.sk-toggleable__label-arrow:before {content: \"▸\";float: left;margin-right: 0.25em;color: #696969;}#sk-container-id-1 label.sk-toggleable__label-arrow:hover:before {color: black;}#sk-container-id-1 div.sk-estimator:hover label.sk-toggleable__label-arrow:before {color: black;}#sk-container-id-1 div.sk-toggleable__content {max-height: 0;max-width: 0;overflow: hidden;text-align: left;background-color: #f0f8ff;}#sk-container-id-1 div.sk-toggleable__content pre {margin: 0.2em;color: black;border-radius: 0.25em;background-color: #f0f8ff;}#sk-container-id-1 input.sk-toggleable__control:checked~div.sk-toggleable__content {max-height: 200px;max-width: 100%;overflow: auto;}#sk-container-id-1 input.sk-toggleable__control:checked~label.sk-toggleable__label-arrow:before {content: \"▾\";}#sk-container-id-1 div.sk-estimator input.sk-toggleable__control:checked~label.sk-toggleable__label {background-color: #d4ebff;}#sk-container-id-1 div.sk-label input.sk-toggleable__control:checked~label.sk-toggleable__label {background-color: #d4ebff;}#sk-container-id-1 input.sk-hidden--visually {border: 0;clip: rect(1px 1px 1px 1px);clip: rect(1px, 1px, 1px, 1px);height: 1px;margin: -1px;overflow: hidden;padding: 0;position: absolute;width: 1px;}#sk-container-id-1 div.sk-estimator {font-family: monospace;background-color: #f0f8ff;border: 1px dotted black;border-radius: 0.25em;box-sizing: border-box;margin-bottom: 0.5em;}#sk-container-id-1 div.sk-estimator:hover {background-color: #d4ebff;}#sk-container-id-1 div.sk-parallel-item::after {content: \"\";width: 100%;border-bottom: 1px solid gray;flex-grow: 1;}#sk-container-id-1 div.sk-label:hover label.sk-toggleable__label {background-color: #d4ebff;}#sk-container-id-1 div.sk-serial::before {content: \"\";position: absolute;border-left: 1px solid gray;box-sizing: border-box;top: 0;bottom: 0;left: 50%;z-index: 0;}#sk-container-id-1 div.sk-serial {display: flex;flex-direction: column;align-items: center;background-color: white;padding-right: 0.2em;padding-left: 0.2em;position: relative;}#sk-container-id-1 div.sk-item {position: relative;z-index: 1;}#sk-container-id-1 div.sk-parallel {display: flex;align-items: stretch;justify-content: center;background-color: white;position: relative;}#sk-container-id-1 div.sk-item::before, #sk-container-id-1 div.sk-parallel-item::before {content: \"\";position: absolute;border-left: 1px solid gray;box-sizing: border-box;top: 0;bottom: 0;left: 50%;z-index: -1;}#sk-container-id-1 div.sk-parallel-item {display: flex;flex-direction: column;z-index: 1;position: relative;background-color: white;}#sk-container-id-1 div.sk-parallel-item:first-child::after {align-self: flex-end;width: 50%;}#sk-container-id-1 div.sk-parallel-item:last-child::after {align-self: flex-start;width: 50%;}#sk-container-id-1 div.sk-parallel-item:only-child::after {width: 0;}#sk-container-id-1 div.sk-dashed-wrapped {border: 1px dashed gray;margin: 0 0.4em 0.5em 0.4em;box-sizing: border-box;padding-bottom: 0.4em;background-color: white;}#sk-container-id-1 div.sk-label label {font-family: monospace;font-weight: bold;display: inline-block;line-height: 1.2em;}#sk-container-id-1 div.sk-label-container {text-align: center;}#sk-container-id-1 div.sk-container {/* jupyter's `normalize.less` sets `[hidden] { display: none; }` but bootstrap.min.css set `[hidden] { display: none !important; }` so we also need the `!important` here to be able to override the default hidden behavior on the sphinx rendered scikit-learn.org. See: https://github.com/scikit-learn/scikit-learn/issues/21755 */display: inline-block !important;position: relative;}#sk-container-id-1 div.sk-text-repr-fallback {display: none;}</style><div id=\"sk-container-id-1\" class=\"sk-top-container\"><div class=\"sk-text-repr-fallback\"><pre>LinearRegression()</pre><b>In a Jupyter environment, please rerun this cell to show the HTML representation or trust the notebook. <br />On GitHub, the HTML representation is unable to render, please try loading this page with nbviewer.org.</b></div><div class=\"sk-container\" hidden><div class=\"sk-item\"><div class=\"sk-estimator sk-toggleable\"><input class=\"sk-toggleable__control sk-hidden--visually\" id=\"sk-estimator-id-1\" type=\"checkbox\" checked><label for=\"sk-estimator-id-1\" class=\"sk-toggleable__label sk-toggleable__label-arrow\">LinearRegression</label><div class=\"sk-toggleable__content\"><pre>LinearRegression()</pre></div></div></div></div></div>"
            ]
          },
          "metadata": {},
          "execution_count": 22
        }
      ]
    },
    {
      "cell_type": "code",
      "source": [
        "# 모델 평가\n",
        "y_pred = sim_lr.predict(X_test['MedInc'].values.reshape((-1, 1)))"
      ],
      "metadata": {
        "id": "_Nw8xo6KNUsw"
      },
      "execution_count": 44,
      "outputs": []
    },
    {
      "cell_type": "markdown",
      "source": [
        "결정계수(R2 score)로 결과 확인\n",
        "- 선형 회귀 모델을 fitting한 후, 모델이 데이터에 얼마나 적합한지 확인하는 적합도 통계 방법 중 하나.\n",
        "- 0-1 사이의 값으로 나타내며 1에 가까울수록 모델과 데이터의 연관성이 높다."
      ],
      "metadata": {
        "id": "K2-Tv5MxOT2D"
      }
    },
    {
      "cell_type": "code",
      "source": [
        "print('단순 선형 회귀, R2: {:.4f}'.format(r2_score(y_test, y_pred)))\n",
        "#.4f ===> 실수(float), 소수점 넷째자리까지"
      ],
      "metadata": {
        "colab": {
          "base_uri": "https://localhost:8080/"
        },
        "id": "F25BtAGVOg2V",
        "outputId": "5497d3bb-1b20-4d57-d35c-11ec1ba1a67f"
      },
      "execution_count": 25,
      "outputs": [
        {
          "output_type": "stream",
          "name": "stdout",
          "text": [
            "단순 선형 회귀, R2: 0.4724\n"
          ]
        }
      ]
    },
    {
      "cell_type": "markdown",
      "source": [
        "## 결과 시각화하기"
      ],
      "metadata": {
        "id": "-zSi3fnxOo_n"
      }
    },
    {
      "cell_type": "code",
      "source": [
        "# X축, y축 지정\n",
        "line_X = np.linspace(np.min(X_test['MedInc']), np.max(X_test['MedInc']), 10)\n",
        "line_y = sim_lr.predict(line_X.reshape(-1, 1))"
      ],
      "metadata": {
        "id": "PQBRtK22OkPP"
      },
      "execution_count": 27,
      "outputs": []
    },
    {
      "cell_type": "code",
      "source": [
        "# 산점도(scatter plot), 회귀선(regression line), 각주(legend) 나타내기\n",
        "plt.scatter(X_test['MedInc'], y_test, s=10, c='black')\n",
        "plt.plot(line_X, line_y, c='red')\n",
        "plt.legend(['Test data sample', 'Regression line'], loc='upper left')\n",
        "plt.show()"
      ],
      "metadata": {
        "colab": {
          "base_uri": "https://localhost:8080/",
          "height": 432
        },
        "id": "jD7R1LbpOu7z",
        "outputId": "96cc4912-92b4-42c2-a90c-6c4bdc732c84"
      },
      "execution_count": 28,
      "outputs": [
        {
          "output_type": "display_data",
          "data": {
            "text/plain": [
              "<Figure size 640x480 with 1 Axes>"
            ],
            "image/png": "[encoded data removed]"
          },
          "metadata": {}
        }
      ]
    },
    {
      "cell_type": "markdown",
      "source": [
        "---> 너무 분산되어 나온다. 실제값과 예측값 차이 多. MedInc 하나만 가지고 평가하기 부족."
      ],
      "metadata": {
        "id": "G8h1pZSzPHwH"
      }
    },
    {
      "cell_type": "markdown",
      "source": [
        "### 1.2 다중 선형 회귀  \n",
        "전체 columns 사용."
      ],
      "metadata": {
        "id": "gUEdpBPNPRfI"
      }
    },
    {
      "cell_type": "code",
      "source": [
        "mul_lr = LinearRegression()\n",
        "mul_lr.fit(X_train, y_train)\n",
        "y_pred = mul_lr.predict(X_test)\n",
        "print('다중 선형 회귀, R2: {:.4f}'.format(r2_score(y_test, y_pred)))"
      ],
      "metadata": {
        "colab": {
          "base_uri": "https://localhost:8080/"
        },
        "id": "RzgTawxQPOnH",
        "outputId": "14bd811f-098e-4c07-c06d-5c68b78fd1f5"
      },
      "execution_count": 29,
      "outputs": [
        {
          "output_type": "stream",
          "name": "stdout",
          "text": [
            "다중 선형 회귀, R2: 0.6175\n"
          ]
        }
      ]
    },
    {
      "cell_type": "markdown",
      "source": [
        "## **2. 결정 트리 모델(Decision Tree Regressor)**"
      ],
      "metadata": {
        "id": "nptOJqEMQHUW"
      }
    },
    {
      "cell_type": "markdown",
      "source": [
        "### 2.1. 단순 결정 트리 모델"
      ],
      "metadata": {
        "id": "cOUotadfQ-t1"
      }
    },
    {
      "cell_type": "code",
      "source": [
        "dt_regr = DecisionTreeRegressor(max_depth=5) # 임의의 depth를 줘 본다.\n",
        "dt_regr.fit(X_train['MedInc'].values.reshape((-1, 1)), y_train)\n",
        "y_pred = dt_regr.predict(X_test['MedInc'].values.reshape(-1, 1))\n",
        "# 모델 평가\n",
        "print('단순 결정 트리 회귀 R2: {:.4f}'.format(r2_score(y_test, y_pred)))"
      ],
      "metadata": {
        "colab": {
          "base_uri": "https://localhost:8080/"
        },
        "id": "zBF8FphrRQRo",
        "outputId": "9aae8120-75f4-49c9-c844-e10e74443b91"
      },
      "execution_count": 38,
      "outputs": [
        {
          "output_type": "stream",
          "name": "stdout",
          "text": [
            "단순 결정 트리 회귀 R2: 0.4828\n"
          ]
        }
      ]
    },
    {
      "cell_type": "markdown",
      "source": [
        "max_depth 변화를 줘 본다. 너무 높이면 학습 데이터와 오버피팅되어 테스트용 데이터와 격차가 벌어지게 된다. 따라서 반복문을 써서 가장 좋은 depth를 쓴다. 아래에 만들어 보자"
      ],
      "metadata": {
        "id": "CIs3IovTRhdV"
      }
    },
    {
      "cell_type": "code",
      "source": [
        "# 배열 만들기\n",
        "arr = np.arange(1, 11)\n",
        "print(arr)\n",
        "# [ 1  2  3  4  5  6  7  8  9 10]\n",
        "\n",
        "best_depth = 1\n",
        "best_r2 = 0\n",
        "for depth in arr:\n",
        "    dt_regr = DecisionTreeRegressor(max_depth=depth)\n",
        "    dt_regr.fit(X_train['MedInc'].values.reshape((-1, 1)), y_train)\n",
        "    y_pred = dt_regr.predict(X_test['MedInc'].values.reshape(-1, 1))\n",
        "\n",
        "    temp_r2 = r2_score(y_test, y_pred)\n",
        "    print('\\n단순 결정 트리 회귀 depth={} R2: {:.4f}'.format(depth, temp_r2))\n",
        "\n",
        "    if best_r2 <temp_r2:\n",
        "        best_depth = depth\n",
        "        best_r2 = temp_r2\n",
        "\n",
        "print('\\n===> 최적의 결과는 depth={} r2={:.4f}'.format(best_depth, best_r2))"
      ],
      "metadata": {
        "colab": {
          "base_uri": "https://localhost:8080/"
        },
        "id": "8lkCvgV6RsR1",
        "outputId": "2764ebf1-3171-4cad-89fc-9a0237f5671d"
      },
      "execution_count": 39,
      "outputs": [
        {
          "output_type": "stream",
          "name": "stdout",
          "text": [
            "[ 1  2  3  4  5  6  7  8  9 10]\n",
            "\n",
            "단순 결정 트리 회귀 depth=1 R2: 0.3087\n",
            "\n",
            "단순 결정 트리 회귀 depth=2 R2: 0.4459\n",
            "\n",
            "단순 결정 트리 회귀 depth=3 R2: 0.4826\n",
            "\n",
            "단순 결정 트리 회귀 depth=4 R2: 0.4856\n",
            "\n",
            "단순 결정 트리 회귀 depth=5 R2: 0.4828\n",
            "\n",
            "단순 결정 트리 회귀 depth=6 R2: 0.4814\n",
            "\n",
            "단순 결정 트리 회귀 depth=7 R2: 0.4800\n",
            "\n",
            "단순 결정 트리 회귀 depth=8 R2: 0.4691\n",
            "\n",
            "단순 결정 트리 회귀 depth=9 R2: 0.4590\n",
            "\n",
            "단순 결정 트리 회귀 depth=10 R2: 0.4480\n",
            "\n",
            "===> 최적의 결과는 depth=4 r2=0.4856\n"
          ]
        }
      ]
    },
    {
      "cell_type": "markdown",
      "source": [
        "### 2.2 다중 결정 트리 모델"
      ],
      "metadata": {
        "id": "SuMvYuySRH63"
      }
    },
    {
      "cell_type": "code",
      "source": [
        "# 배열 만들기\n",
        "arr = np.arange(1, 11)\n",
        "print(arr)\n",
        "# [ 1  2  3  4  5  6  7  8  9 10]\n",
        "\n",
        "best_depth = 1\n",
        "best_r2 = 0\n",
        "for depth in arr:\n",
        "    dt_regr = DecisionTreeRegressor(max_depth=depth)\n",
        "    dt_regr.fit(X_train, y_train)\n",
        "    y_pred = dt_regr.predict(X_test)\n",
        "\n",
        "    temp_r2 = r2_score(y_test, y_pred)\n",
        "    print('\\n다중 결정 트리 회귀 depth={} R2: {:.4f}'.format(depth, temp_r2))\n",
        "\n",
        "    if best_r2 <temp_r2:\n",
        "        best_depth = depth\n",
        "        best_r2 = temp_r2\n",
        "\n",
        "print('\\n===> 최적의 결과는 depth={} r2={:.4f}'.format(best_depth, best_r2))"
      ],
      "metadata": {
        "colab": {
          "base_uri": "https://localhost:8080/"
        },
        "id": "GwgXlq35RGjV",
        "outputId": "450ada66-3fa5-4e90-dd11-6573bbb285ed"
      },
      "execution_count": 41,
      "outputs": [
        {
          "output_type": "stream",
          "name": "stdout",
          "text": [
            "[ 1  2  3  4  5  6  7  8  9 10]\n",
            "\n",
            "다중 결정 트리 회귀 depth=1 R2: 0.3087\n",
            "\n",
            "다중 결정 트리 회귀 depth=2 R2: 0.4459\n",
            "\n",
            "다중 결정 트리 회귀 depth=3 R2: 0.5305\n",
            "\n",
            "다중 결정 트리 회귀 depth=4 R2: 0.5771\n",
            "\n",
            "다중 결정 트리 회귀 depth=5 R2: 0.6122\n",
            "\n",
            "다중 결정 트리 회귀 depth=6 R2: 0.6367\n",
            "\n",
            "다중 결정 트리 회귀 depth=7 R2: 0.6622\n",
            "\n",
            "다중 결정 트리 회귀 depth=8 R2: 0.6731\n",
            "\n",
            "다중 결정 트리 회귀 depth=9 R2: 0.6919\n",
            "\n",
            "다중 결정 트리 회귀 depth=10 R2: 0.6994\n",
            "\n",
            "===> 최적의 결과는 depth=10 r2=0.6994\n"
          ]
        }
      ]
    },
    {
      "cell_type": "code",
      "source": [
        "dt_regr = DecisionTreeRegressor(max_depth=10)\n",
        "dt_regr.fit(X_train, y_train)"
      ],
      "metadata": {
        "colab": {
          "base_uri": "https://localhost:8080/",
          "height": 75
        },
        "id": "jGU_smAmRzX1",
        "outputId": "d2c3940d-f05e-4daa-e263-b9cc9c8c81f0"
      },
      "execution_count": 42,
      "outputs": [
        {
          "output_type": "execute_result",
          "data": {
            "text/plain": [
              "DecisionTreeRegressor(max_depth=10)"
            ],
            "text/html": [
              "<style>#sk-container-id-3 {color: black;background-color: white;}#sk-container-id-3 pre{padding: 0;}#sk-container-id-3 div.sk-toggleable {background-color: white;}#sk-container-id-3 label.sk-toggleable__label {cursor: pointer;display: block;width: 100%;margin-bottom: 0;padding: 0.3em;box-sizing: border-box;text-align: center;}#sk-container-id-3 label.sk-toggleable__label-arrow:before {content: \"▸\";float: left;margin-right: 0.25em;color: #696969;}#sk-container-id-3 label.sk-toggleable__label-arrow:hover:before {color: black;}#sk-container-id-3 div.sk-estimator:hover label.sk-toggleable__label-arrow:before {color: black;}#sk-container-id-3 div.sk-toggleable__content {max-height: 0;max-width: 0;overflow: hidden;text-align: left;background-color: #f0f8ff;}#sk-container-id-3 div.sk-toggleable__content pre {margin: 0.2em;color: black;border-radius: 0.25em;background-color: #f0f8ff;}#sk-container-id-3 input.sk-toggleable__control:checked~div.sk-toggleable__content {max-height: 200px;max-width: 100%;overflow: auto;}#sk-container-id-3 input.sk-toggleable__control:checked~label.sk-toggleable__label-arrow:before {content: \"▾\";}#sk-container-id-3 div.sk-estimator input.sk-toggleable__control:checked~label.sk-toggleable__label {background-color: #d4ebff;}#sk-container-id-3 div.sk-label input.sk-toggleable__control:checked~label.sk-toggleable__label {background-color: #d4ebff;}#sk-container-id-3 input.sk-hidden--visually {border: 0;clip: rect(1px 1px 1px 1px);clip: rect(1px, 1px, 1px, 1px);height: 1px;margin: -1px;overflow: hidden;padding: 0;position: absolute;width: 1px;}#sk-container-id-3 div.sk-estimator {font-family: monospace;background-color: #f0f8ff;border: 1px dotted black;border-radius: 0.25em;box-sizing: border-box;margin-bottom: 0.5em;}#sk-container-id-3 div.sk-estimator:hover {background-color: #d4ebff;}#sk-container-id-3 div.sk-parallel-item::after {content: \"\";width: 100%;border-bottom: 1px solid gray;flex-grow: 1;}#sk-container-id-3 div.sk-label:hover label.sk-toggleable__label {background-color: #d4ebff;}#sk-container-id-3 div.sk-serial::before {content: \"\";position: absolute;border-left: 1px solid gray;box-sizing: border-box;top: 0;bottom: 0;left: 50%;z-index: 0;}#sk-container-id-3 div.sk-serial {display: flex;flex-direction: column;align-items: center;background-color: white;padding-right: 0.2em;padding-left: 0.2em;position: relative;}#sk-container-id-3 div.sk-item {position: relative;z-index: 1;}#sk-container-id-3 div.sk-parallel {display: flex;align-items: stretch;justify-content: center;background-color: white;position: relative;}#sk-container-id-3 div.sk-item::before, #sk-container-id-3 div.sk-parallel-item::before {content: \"\";position: absolute;border-left: 1px solid gray;box-sizing: border-box;top: 0;bottom: 0;left: 50%;z-index: -1;}#sk-container-id-3 div.sk-parallel-item {display: flex;flex-direction: column;z-index: 1;position: relative;background-color: white;}#sk-container-id-3 div.sk-parallel-item:first-child::after {align-self: flex-end;width: 50%;}#sk-container-id-3 div.sk-parallel-item:last-child::after {align-self: flex-start;width: 50%;}#sk-container-id-3 div.sk-parallel-item:only-child::after {width: 0;}#sk-container-id-3 div.sk-dashed-wrapped {border: 1px dashed gray;margin: 0 0.4em 0.5em 0.4em;box-sizing: border-box;padding-bottom: 0.4em;background-color: white;}#sk-container-id-3 div.sk-label label {font-family: monospace;font-weight: bold;display: inline-block;line-height: 1.2em;}#sk-container-id-3 div.sk-label-container {text-align: center;}#sk-container-id-3 div.sk-container {/* jupyter's `normalize.less` sets `[hidden] { display: none; }` but bootstrap.min.css set `[hidden] { display: none !important; }` so we also need the `!important` here to be able to override the default hidden behavior on the sphinx rendered scikit-learn.org. See: https://github.com/scikit-learn/scikit-learn/issues/21755 */display: inline-block !important;position: relative;}#sk-container-id-3 div.sk-text-repr-fallback {display: none;}</style><div id=\"sk-container-id-3\" class=\"sk-top-container\"><div class=\"sk-text-repr-fallback\"><pre>DecisionTreeRegressor(max_depth=10)</pre><b>In a Jupyter environment, please rerun this cell to show the HTML representation or trust the notebook. <br />On GitHub, the HTML representation is unable to render, please try loading this page with nbviewer.org.</b></div><div class=\"sk-container\" hidden><div class=\"sk-item\"><div class=\"sk-estimator sk-toggleable\"><input class=\"sk-toggleable__control sk-hidden--visually\" id=\"sk-estimator-id-3\" type=\"checkbox\" checked><label for=\"sk-estimator-id-3\" class=\"sk-toggleable__label sk-toggleable__label-arrow\">DecisionTreeRegressor</label><div class=\"sk-toggleable__content\"><pre>DecisionTreeRegressor(max_depth=10)</pre></div></div></div></div></div>"
            ]
          },
          "metadata": {},
          "execution_count": 42
        }
      ]
    },
    {
      "cell_type": "code",
      "source": [
        "# 모델 평가\n",
        "y_pred = dt_regr.predict(X_test)\n",
        "print('다중 결정 트리 R2: {:.4f}'.format(r2_score(y_test, y_pred)))"
      ],
      "metadata": {
        "colab": {
          "base_uri": "https://localhost:8080/"
        },
        "id": "AjK46oUbSJet",
        "outputId": "bed770cc-e13b-4acc-96de-a4e4700aba2b"
      },
      "execution_count": 43,
      "outputs": [
        {
          "output_type": "stream",
          "name": "stdout",
          "text": [
            "다중 결정 트리 R2: 0.7005\n"
          ]
        }
      ]
    },
    {
      "cell_type": "code",
      "source": [],
      "metadata": {
        "id": "yfDUeu3ZSNyM"
      },
      "execution_count": 36,
      "outputs": []
    }
  ]
}