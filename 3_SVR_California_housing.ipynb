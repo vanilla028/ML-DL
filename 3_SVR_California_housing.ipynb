{
  "nbformat": 4,
  "nbformat_minor": 0,
  "metadata": {
    "colab": {
      "provenance": [],
      "machine_shape": "hm",
      "gpuType": "A100"
    },
    "kernelspec": {
      "name": "python3",
      "display_name": "Python 3"
    },
    "language_info": {
      "name": "python"
    },
    "accelerator": "GPU"
  },
  "cells": [
    {
      "cell_type": "markdown",
      "source": [
        "# **SVM(Support Vector Machine)으로 캘리포니아 주택 가격 회귀 모델 만들기**"
      ],
      "metadata": {
        "id": "n7lRTMt8qD14"
      }
    },
    {
      "cell_type": "code",
      "execution_count": 1,
      "metadata": {
        "id": "wqf-8skOp_0L"
      },
      "outputs": [],
      "source": [
        "import numpy as np\n",
        "import pandas as pd\n",
        "import sklearn\n",
        "from sklearn.model_selection import train_test_split\n",
        "from sklearn.svm import SVR\n",
        "from sklearn.metrics import r2_score\n",
        "import matplotlib.pyplot as plt\n",
        "import warnings\n",
        "warnings.filterwarnings('ignore')\n",
        "\n",
        "from sklearn.datasets import fetch_california_housing"
      ]
    },
    {
      "cell_type": "markdown",
      "source": [
        "## 데이터 불러오기"
      ],
      "metadata": {
        "id": "o1WJZHjtqUAT"
      }
    },
    {
      "cell_type": "code",
      "source": [
        "dataset = fetch_california_housing()"
      ],
      "metadata": {
        "id": "lmtBzrRfqTo2"
      },
      "execution_count": 2,
      "outputs": []
    },
    {
      "cell_type": "code",
      "source": [
        "# 필요한 데이터 추출하기  dataset.속성, dataset[배열] 모두 가능\n",
        "data = dataset.data\n",
        "label = dataset.target\n",
        "columns = dataset.feature_names\n",
        "\n",
        "data = pd.DataFrame(data, columns=columns)\n",
        "print(data.head())"
      ],
      "metadata": {
        "colab": {
          "base_uri": "https://localhost:8080/"
        },
        "id": "6UAgLlwDqRie",
        "outputId": "26723aed-48d2-4cc1-cd7c-54ce06b8d84d"
      },
      "execution_count": 3,
      "outputs": [
        {
          "output_type": "stream",
          "name": "stdout",
          "text": [
            "   MedInc  HouseAge  AveRooms  AveBedrms  Population  AveOccup  Latitude  \\\n",
            "0  8.3252      41.0  6.984127   1.023810       322.0  2.555556     37.88   \n",
            "1  8.3014      21.0  6.238137   0.971880      2401.0  2.109842     37.86   \n",
            "2  7.2574      52.0  8.288136   1.073446       496.0  2.802260     37.85   \n",
            "3  5.6431      52.0  5.817352   1.073059       558.0  2.547945     37.85   \n",
            "4  3.8462      52.0  6.281853   1.081081       565.0  2.181467     37.85   \n",
            "\n",
            "   Longitude  \n",
            "0    -122.23  \n",
            "1    -122.22  \n",
            "2    -122.24  \n",
            "3    -122.25  \n",
            "4    -122.25  \n"
          ]
        }
      ]
    },
    {
      "cell_type": "code",
      "source": [
        "print(data.shape)"
      ],
      "metadata": {
        "colab": {
          "base_uri": "https://localhost:8080/"
        },
        "id": "QcsNAa1pqc90",
        "outputId": "180b1d84-3804-42a2-b758-53059128e68c"
      },
      "execution_count": 4,
      "outputs": [
        {
          "output_type": "stream",
          "name": "stdout",
          "text": [
            "(20640, 8)\n"
          ]
        }
      ]
    },
    {
      "cell_type": "markdown",
      "source": [
        "## 데이터셋 준비하기"
      ],
      "metadata": {
        "id": "8NT_qFmTqj8R"
      }
    },
    {
      "cell_type": "code",
      "source": [
        "X_train,X_test, y_train, y_test = train_test_split(data, label, test_size=0.2, random_state=2023)\n",
        "\n",
        "print(X_train['MedInc'])"
      ],
      "metadata": {
        "colab": {
          "base_uri": "https://localhost:8080/"
        },
        "id": "J61nj-PDqlKF",
        "outputId": "b95c07ba-2cef-4296-d071-6039ce31b161"
      },
      "execution_count": 5,
      "outputs": [
        {
          "output_type": "stream",
          "name": "stdout",
          "text": [
            "20539    4.2198\n",
            "17336    5.7306\n",
            "15150    3.1607\n",
            "11440    6.2984\n",
            "3988     4.9250\n",
            "          ...  \n",
            "6659     3.1875\n",
            "5852     3.5875\n",
            "6049     3.0429\n",
            "19127    4.0729\n",
            "14790    2.9286\n",
            "Name: MedInc, Length: 16512, dtype: float64\n"
          ]
        }
      ]
    },
    {
      "cell_type": "markdown",
      "source": [
        "## 모델링"
      ],
      "metadata": {
        "id": "icUz3cPcq6bB"
      }
    },
    {
      "cell_type": "markdown",
      "source": [
        "## 서포트 벡터 머신 회귀(Support Vector Machine Regressor)"
      ],
      "metadata": {
        "id": "-4jHyoIqq_P8"
      }
    },
    {
      "cell_type": "markdown",
      "source": [
        "### 1. 단순 서포트 벡터 머신 회귀  ###\n",
        "column 하나 사용"
      ],
      "metadata": {
        "id": "ImBtIvjZrIBF"
      }
    },
    {
      "cell_type": "code",
      "source": [
        "svm_regr = SVR(C=2)"
      ],
      "metadata": {
        "id": "f2v337a5qsGD"
      },
      "execution_count": 6,
      "outputs": []
    },
    {
      "cell_type": "markdown",
      "source": [
        "--> C가 너무 높으면 과적합(overfitting), 너무 낮으면 과소적합(underfitting)이 될 수 있다."
      ],
      "metadata": {
        "id": "3acZ9Bs-rP9e"
      }
    },
    {
      "cell_type": "code",
      "source": [
        "# train\n",
        "# 1차원 배열 -> 2차원 배열로 바꿔주기\n",
        "svm_regr.fit(X_train['MedInc'].values.reshape(-1, 1), y_train)"
      ],
      "metadata": {
        "colab": {
          "base_uri": "https://localhost:8080/",
          "height": 75
        },
        "id": "h431pyNdrRRe",
        "outputId": "7d1bc710-746b-4f6a-ac07-c22867e044e5"
      },
      "execution_count": 7,
      "outputs": [
        {
          "output_type": "execute_result",
          "data": {
            "text/plain": [
              "SVR(C=2)"
            ],
            "text/html": [
              "<style>#sk-container-id-1 {color: black;background-color: white;}#sk-container-id-1 pre{padding: 0;}#sk-container-id-1 div.sk-toggleable {background-color: white;}#sk-container-id-1 label.sk-toggleable__label {cursor: pointer;display: block;width: 100%;margin-bottom: 0;padding: 0.3em;box-sizing: border-box;text-align: center;}#sk-container-id-1 label.sk-toggleable__label-arrow:before {content: \"▸\";float: left;margin-right: 0.25em;color: #696969;}#sk-container-id-1 label.sk-toggleable__label-arrow:hover:before {color: black;}#sk-container-id-1 div.sk-estimator:hover label.sk-toggleable__label-arrow:before {color: black;}#sk-container-id-1 div.sk-toggleable__content {max-height: 0;max-width: 0;overflow: hidden;text-align: left;background-color: #f0f8ff;}#sk-container-id-1 div.sk-toggleable__content pre {margin: 0.2em;color: black;border-radius: 0.25em;background-color: #f0f8ff;}#sk-container-id-1 input.sk-toggleable__control:checked~div.sk-toggleable__content {max-height: 200px;max-width: 100%;overflow: auto;}#sk-container-id-1 input.sk-toggleable__control:checked~label.sk-toggleable__label-arrow:before {content: \"▾\";}#sk-container-id-1 div.sk-estimator input.sk-toggleable__control:checked~label.sk-toggleable__label {background-color: #d4ebff;}#sk-container-id-1 div.sk-label input.sk-toggleable__control:checked~label.sk-toggleable__label {background-color: #d4ebff;}#sk-container-id-1 input.sk-hidden--visually {border: 0;clip: rect(1px 1px 1px 1px);clip: rect(1px, 1px, 1px, 1px);height: 1px;margin: -1px;overflow: hidden;padding: 0;position: absolute;width: 1px;}#sk-container-id-1 div.sk-estimator {font-family: monospace;background-color: #f0f8ff;border: 1px dotted black;border-radius: 0.25em;box-sizing: border-box;margin-bottom: 0.5em;}#sk-container-id-1 div.sk-estimator:hover {background-color: #d4ebff;}#sk-container-id-1 div.sk-parallel-item::after {content: \"\";width: 100%;border-bottom: 1px solid gray;flex-grow: 1;}#sk-container-id-1 div.sk-label:hover label.sk-toggleable__label {background-color: #d4ebff;}#sk-container-id-1 div.sk-serial::before {content: \"\";position: absolute;border-left: 1px solid gray;box-sizing: border-box;top: 0;bottom: 0;left: 50%;z-index: 0;}#sk-container-id-1 div.sk-serial {display: flex;flex-direction: column;align-items: center;background-color: white;padding-right: 0.2em;padding-left: 0.2em;position: relative;}#sk-container-id-1 div.sk-item {position: relative;z-index: 1;}#sk-container-id-1 div.sk-parallel {display: flex;align-items: stretch;justify-content: center;background-color: white;position: relative;}#sk-container-id-1 div.sk-item::before, #sk-container-id-1 div.sk-parallel-item::before {content: \"\";position: absolute;border-left: 1px solid gray;box-sizing: border-box;top: 0;bottom: 0;left: 50%;z-index: -1;}#sk-container-id-1 div.sk-parallel-item {display: flex;flex-direction: column;z-index: 1;position: relative;background-color: white;}#sk-container-id-1 div.sk-parallel-item:first-child::after {align-self: flex-end;width: 50%;}#sk-container-id-1 div.sk-parallel-item:last-child::after {align-self: flex-start;width: 50%;}#sk-container-id-1 div.sk-parallel-item:only-child::after {width: 0;}#sk-container-id-1 div.sk-dashed-wrapped {border: 1px dashed gray;margin: 0 0.4em 0.5em 0.4em;box-sizing: border-box;padding-bottom: 0.4em;background-color: white;}#sk-container-id-1 div.sk-label label {font-family: monospace;font-weight: bold;display: inline-block;line-height: 1.2em;}#sk-container-id-1 div.sk-label-container {text-align: center;}#sk-container-id-1 div.sk-container {/* jupyter's `normalize.less` sets `[hidden] { display: none; }` but bootstrap.min.css set `[hidden] { display: none !important; }` so we also need the `!important` here to be able to override the default hidden behavior on the sphinx rendered scikit-learn.org. See: https://github.com/scikit-learn/scikit-learn/issues/21755 */display: inline-block !important;position: relative;}#sk-container-id-1 div.sk-text-repr-fallback {display: none;}</style><div id=\"sk-container-id-1\" class=\"sk-top-container\"><div class=\"sk-text-repr-fallback\"><pre>SVR(C=2)</pre><b>In a Jupyter environment, please rerun this cell to show the HTML representation or trust the notebook. <br />On GitHub, the HTML representation is unable to render, please try loading this page with nbviewer.org.</b></div><div class=\"sk-container\" hidden><div class=\"sk-item\"><div class=\"sk-estimator sk-toggleable\"><input class=\"sk-toggleable__control sk-hidden--visually\" id=\"sk-estimator-id-1\" type=\"checkbox\" checked><label for=\"sk-estimator-id-1\" class=\"sk-toggleable__label sk-toggleable__label-arrow\">SVR</label><div class=\"sk-toggleable__content\"><pre>SVR(C=2)</pre></div></div></div></div></div>"
            ]
          },
          "metadata": {},
          "execution_count": 7
        }
      ]
    },
    {
      "cell_type": "markdown",
      "source": [
        "## 모델 평가하기"
      ],
      "metadata": {
        "id": "2QK-8T2UrgV9"
      }
    },
    {
      "cell_type": "code",
      "source": [
        "# 예측값\n",
        "y_pred = svm_regr.predict(X_test['MedInc'].values.reshape(-1, 1))"
      ],
      "metadata": {
        "id": "CbUZRVKCrfov"
      },
      "execution_count": 8,
      "outputs": []
    },
    {
      "cell_type": "markdown",
      "source": [
        "결정계수(R2 score)로 결과 확인: 선형 회귀 모델을 fitting한 후, 모델이 데이터에 얼마나 적합한지 확인하는 적합도 통계 방법 중 하나. 0-1 사이의 값으로 나타내며 1에 가까울수록 모델과 데이터의 연관성이 높다."
      ],
      "metadata": {
        "id": "AZvHoiDnrlIM"
      }
    },
    {
      "cell_type": "code",
      "source": [
        "print('단순 서포트 벡터 머신 회귀 R2: {:.4f}'.format(r2_score(y_test, y_pred)))"
      ],
      "metadata": {
        "colab": {
          "base_uri": "https://localhost:8080/"
        },
        "id": "XCbUbV0priCg",
        "outputId": "01b96a85-1e26-4863-bb5b-86721a1a28f4"
      },
      "execution_count": 9,
      "outputs": [
        {
          "output_type": "stream",
          "name": "stdout",
          "text": [
            "단순 서포트 벡터 머신 회귀 R2: 0.4630\n"
          ]
        }
      ]
    },
    {
      "cell_type": "markdown",
      "source": [
        "--> C값을 변경해 본다. C값은 두 서포트 벡터 영역 안에 허용하는 개수를 의미한다."
      ],
      "metadata": {
        "id": "2uU0oyHtrru0"
      }
    },
    {
      "cell_type": "code",
      "source": [
        "# best c값 찾기\n",
        "arr = np.arange(1, 11)\n",
        "\n",
        "best_C = 1\n",
        "best_r2 = 0\n",
        "\n",
        "for C in arr:\n",
        "    svm_regr = SVR(C=C)\n",
        "    svm_regr.fit(X_train['MedInc'].values.reshape(-1, 1), y_train)\n",
        "    temp_r2 = r2_score(y_test, y_pred)\n",
        "    print('단순 서포트 벡터 머신 회귀 C={} R2: {:.4f}'.format(C, temp_r2))\n",
        "\n",
        "    if best_r2 < temp_r2:\n",
        "        best_C = C\n",
        "        best_r2 = temp_r2\n",
        "\n",
        "print('최적의 결과는 C={} r2={:.4f}'.format(best_C, best_r2))"
      ],
      "metadata": {
        "colab": {
          "base_uri": "https://localhost:8080/"
        },
        "id": "JIJzsQjYrq-P",
        "outputId": "0e73552d-8a9d-487e-ea5b-56e40de4201d"
      },
      "execution_count": 10,
      "outputs": [
        {
          "output_type": "stream",
          "name": "stdout",
          "text": [
            "단순 서포트 벡터 머신 회귀 C=1 R2: 0.4630\n",
            "단순 서포트 벡터 머신 회귀 C=2 R2: 0.4630\n",
            "단순 서포트 벡터 머신 회귀 C=3 R2: 0.4630\n",
            "단순 서포트 벡터 머신 회귀 C=4 R2: 0.4630\n",
            "단순 서포트 벡터 머신 회귀 C=5 R2: 0.4630\n",
            "단순 서포트 벡터 머신 회귀 C=6 R2: 0.4630\n",
            "단순 서포트 벡터 머신 회귀 C=7 R2: 0.4630\n",
            "단순 서포트 벡터 머신 회귀 C=8 R2: 0.4630\n",
            "단순 서포트 벡터 머신 회귀 C=9 R2: 0.4630\n",
            "단순 서포트 벡터 머신 회귀 C=10 R2: 0.4630\n",
            "최적의 결과는 C=1 r2=0.4630\n"
          ]
        }
      ]
    },
    {
      "cell_type": "markdown",
      "source": [
        "## 결과 시각화하기"
      ],
      "metadata": {
        "id": "IPAe2pppsGx-"
      }
    },
    {
      "cell_type": "code",
      "source": [
        "# X축, y축 지정\n",
        "line_X = np.linspace(np.min(X_test['MedInc']), np.max(X_test['MedInc']), 10)\n",
        "line_y = svm_regr.predict(line_X.reshape(-1, 1))\n",
        "\n",
        "# 산점도(scatter plot), 회귀선(regression line), 각주(legend) 나타내기\n",
        "plt.scatter(X_test['MedInc'], y_test, c='black')\n",
        "plt.plot(line_X, line_y, c='red')\n",
        "plt.legend(['Test data sample', 'Regression line'], loc='upper left')\n",
        "plt.show()"
      ],
      "metadata": {
        "colab": {
          "base_uri": "https://localhost:8080/",
          "height": 430
        },
        "id": "gKADMXrksHny",
        "outputId": "54b970a0-fbef-4ef0-aec1-17340f67e9da"
      },
      "execution_count": 11,
      "outputs": [
        {
          "output_type": "display_data",
          "data": {
            "text/plain": [
              "<Figure size 640x480 with 1 Axes>"
            ],
            "image/png": "[encoded data removed]"
          },
          "metadata": {}
        }
      ]
    },
    {
      "cell_type": "markdown",
      "source": [
        "### 2. 다중 서포트 벡터 머신 회귀  \n",
        "전체 columns  사용"
      ],
      "metadata": {
        "id": "7j37DBnIsdTi"
      }
    },
    {
      "cell_type": "code",
      "source": [
        "# C=20 --> 전체 columns를 사용할 것이므로 변수가 많아질 것에 대비하여 20의 값을 준다.\n",
        "svm_regr = SVR(C=20)"
      ],
      "metadata": {
        "id": "2lgkmLHusggb"
      },
      "execution_count": 12,
      "outputs": []
    },
    {
      "cell_type": "code",
      "source": [
        "svm_regr = SVR(C=20)\n",
        "svm_regr.fit(X_train, y_train)\n",
        "y_pred = svm_regr.predict(X_test)\n",
        "print('다중 서포트 벡터 머신 회귀, R2 : {:.4f}'.format(r2_score(y_test, y_pred)))"
      ],
      "metadata": {
        "colab": {
          "base_uri": "https://localhost:8080/"
        },
        "id": "VInBsMsYsz20",
        "outputId": "5192fd07-fa6c-49fb-9482-83d5b14cc828"
      },
      "execution_count": 13,
      "outputs": [
        {
          "output_type": "stream",
          "name": "stdout",
          "text": [
            "다중 서포트 벡터 머신 회귀, R2 : 0.2619\n"
          ]
        }
      ]
    },
    {
      "cell_type": "markdown",
      "source": [
        "--> C값을 변경해 본다."
      ],
      "metadata": {
        "id": "LErtPYNCtXkn"
      }
    },
    {
      "cell_type": "code",
      "source": [
        "# best C값 찾기\n",
        "arr = np.arange(25000,25005)\n",
        "\n",
        "best_C = 0\n",
        "best_r2 = 0\n",
        "\n",
        "for C in arr:\n",
        "  svm_regr = SVR(C=C)\n",
        "  svm_regr.fit(X_train, y_train)\n",
        "  y_pred = svm_regr.predict(X_test)\n",
        "  temp_r2 = r2_score(y_test, y_pred)\n",
        "  print('다중 서포트 벡터 머신 회귀, R2 : {:.4f}'.format(r2_score(y_test, y_pred)))\n",
        "\n",
        "  if best_r2 < temp_r2:\n",
        "    best_C = C\n",
        "    best_r2 = temp_r2\n",
        "\n",
        "print('최적의 결과는 C={} r2={:.4f}'.format(best_C, best_r2))"
      ],
      "metadata": {
        "colab": {
          "base_uri": "https://localhost:8080/"
        },
        "id": "mM_U6pzW3lWW",
        "outputId": "4d250795-3eac-45f2-d4ea-2e6921661457"
      },
      "execution_count": 14,
      "outputs": [
        {
          "output_type": "stream",
          "name": "stdout",
          "text": [
            "다중 서포트 벡터 머신 회귀, R2 : 0.6483\n",
            "다중 서포트 벡터 머신 회귀, R2 : 0.6484\n",
            "다중 서포트 벡터 머신 회귀, R2 : 0.6483\n",
            "다중 서포트 벡터 머신 회귀, R2 : 0.6484\n",
            "다중 서포트 벡터 머신 회귀, R2 : 0.6483\n",
            "최적의 결과는 C=25003 r2=0.6484\n"
          ]
        }
      ]
    },
    {
      "cell_type": "code",
      "source": [
        "# best c값 찾기\n",
        "arr = np.arange(10000,25000)\n",
        "\n",
        "best_C = 0\n",
        "best_r2 = 0\n",
        "\n",
        "for C in arr:\n",
        "  svm_regr = SVR(C=C)\n",
        "  svm_regr.fit(X_train, y_train)\n",
        "  y_pred = svm_regr.predict(X_test)\n",
        "  temp_r2 = r2_score(y_test, y_pred)\n",
        "  print('다중 서포트 벡터 머신 회귀, R2 : {:.4f}'.format(r2_score(y_test, y_pred)))\n",
        "\n",
        "  if best_r2 < temp_r2:\n",
        "    best_C = C\n",
        "    best_r2 = temp_r2\n",
        "\n",
        "print('최적의 결과는 C={} r2={:.4f}'.format(best_C, best_r2))"
      ],
      "metadata": {
        "colab": {
          "base_uri": "https://localhost:8080/",
          "height": 559
        },
        "id": "fuF42KdrtXO-",
        "outputId": "439eb266-f0b3-46da-aa66-d3fe07e3836c"
      },
      "execution_count": 15,
      "outputs": [
        {
          "output_type": "stream",
          "name": "stdout",
          "text": [
            "다중 서포트 벡터 머신 회귀, R2 : 0.6429\n",
            "다중 서포트 벡터 머신 회귀, R2 : 0.6429\n",
            "다중 서포트 벡터 머신 회귀, R2 : 0.6428\n",
            "다중 서포트 벡터 머신 회귀, R2 : 0.6428\n",
            "다중 서포트 벡터 머신 회귀, R2 : 0.6429\n",
            "다중 서포트 벡터 머신 회귀, R2 : 0.6429\n"
          ]
        },
        {
          "output_type": "error",
          "ename": "KeyboardInterrupt",
          "evalue": "ignored",
          "traceback": [
            "\u001b[0;31m---------------------------------------------------------------------------\u001b[0m",
            "\u001b[0;31mKeyboardInterrupt\u001b[0m                         Traceback (most recent call last)",
            "\u001b[0;32m<ipython-input-15-64dac66f1772>\u001b[0m in \u001b[0;36m<cell line: 7>\u001b[0;34m()\u001b[0m\n\u001b[1;32m      7\u001b[0m \u001b[0;32mfor\u001b[0m \u001b[0mC\u001b[0m \u001b[0;32min\u001b[0m \u001b[0marr\u001b[0m\u001b[0;34m:\u001b[0m\u001b[0;34m\u001b[0m\u001b[0;34m\u001b[0m\u001b[0m\n\u001b[1;32m      8\u001b[0m   \u001b[0msvm_regr\u001b[0m \u001b[0;34m=\u001b[0m \u001b[0mSVR\u001b[0m\u001b[0;34m(\u001b[0m\u001b[0mC\u001b[0m\u001b[0;34m=\u001b[0m\u001b[0mC\u001b[0m\u001b[0;34m)\u001b[0m\u001b[0;34m\u001b[0m\u001b[0;34m\u001b[0m\u001b[0m\n\u001b[0;32m----> 9\u001b[0;31m   \u001b[0msvm_regr\u001b[0m\u001b[0;34m.\u001b[0m\u001b[0mfit\u001b[0m\u001b[0;34m(\u001b[0m\u001b[0mX_train\u001b[0m\u001b[0;34m,\u001b[0m \u001b[0my_train\u001b[0m\u001b[0;34m)\u001b[0m\u001b[0;34m\u001b[0m\u001b[0;34m\u001b[0m\u001b[0m\n\u001b[0m\u001b[1;32m     10\u001b[0m   \u001b[0my_pred\u001b[0m \u001b[0;34m=\u001b[0m \u001b[0msvm_regr\u001b[0m\u001b[0;34m.\u001b[0m\u001b[0mpredict\u001b[0m\u001b[0;34m(\u001b[0m\u001b[0mX_test\u001b[0m\u001b[0;34m)\u001b[0m\u001b[0;34m\u001b[0m\u001b[0;34m\u001b[0m\u001b[0m\n\u001b[1;32m     11\u001b[0m   \u001b[0mtemp_r2\u001b[0m \u001b[0;34m=\u001b[0m \u001b[0mr2_score\u001b[0m\u001b[0;34m(\u001b[0m\u001b[0my_test\u001b[0m\u001b[0;34m,\u001b[0m \u001b[0my_pred\u001b[0m\u001b[0;34m)\u001b[0m\u001b[0;34m\u001b[0m\u001b[0;34m\u001b[0m\u001b[0m\n",
            "\u001b[0;32m/usr/local/lib/python3.10/dist-packages/sklearn/svm/_base.py\u001b[0m in \u001b[0;36mfit\u001b[0;34m(self, X, y, sample_weight)\u001b[0m\n\u001b[1;32m    250\u001b[0m \u001b[0;34m\u001b[0m\u001b[0m\n\u001b[1;32m    251\u001b[0m         \u001b[0mseed\u001b[0m \u001b[0;34m=\u001b[0m \u001b[0mrnd\u001b[0m\u001b[0;34m.\u001b[0m\u001b[0mrandint\u001b[0m\u001b[0;34m(\u001b[0m\u001b[0mnp\u001b[0m\u001b[0;34m.\u001b[0m\u001b[0miinfo\u001b[0m\u001b[0;34m(\u001b[0m\u001b[0;34m\"i\"\u001b[0m\u001b[0;34m)\u001b[0m\u001b[0;34m.\u001b[0m\u001b[0mmax\u001b[0m\u001b[0;34m)\u001b[0m\u001b[0;34m\u001b[0m\u001b[0;34m\u001b[0m\u001b[0m\n\u001b[0;32m--> 252\u001b[0;31m         \u001b[0mfit\u001b[0m\u001b[0;34m(\u001b[0m\u001b[0mX\u001b[0m\u001b[0;34m,\u001b[0m \u001b[0my\u001b[0m\u001b[0;34m,\u001b[0m \u001b[0msample_weight\u001b[0m\u001b[0;34m,\u001b[0m \u001b[0msolver_type\u001b[0m\u001b[0;34m,\u001b[0m \u001b[0mkernel\u001b[0m\u001b[0;34m,\u001b[0m \u001b[0mrandom_seed\u001b[0m\u001b[0;34m=\u001b[0m\u001b[0mseed\u001b[0m\u001b[0;34m)\u001b[0m\u001b[0;34m\u001b[0m\u001b[0;34m\u001b[0m\u001b[0m\n\u001b[0m\u001b[1;32m    253\u001b[0m         \u001b[0;31m# see comment on the other call to np.iinfo in this file\u001b[0m\u001b[0;34m\u001b[0m\u001b[0;34m\u001b[0m\u001b[0m\n\u001b[1;32m    254\u001b[0m \u001b[0;34m\u001b[0m\u001b[0m\n",
            "\u001b[0;32m/usr/local/lib/python3.10/dist-packages/sklearn/svm/_base.py\u001b[0m in \u001b[0;36m_dense_fit\u001b[0;34m(self, X, y, sample_weight, solver_type, kernel, random_seed)\u001b[0m\n\u001b[1;32m    329\u001b[0m             \u001b[0mself\u001b[0m\u001b[0;34m.\u001b[0m\u001b[0mfit_status_\u001b[0m\u001b[0;34m,\u001b[0m\u001b[0;34m\u001b[0m\u001b[0;34m\u001b[0m\u001b[0m\n\u001b[1;32m    330\u001b[0m             \u001b[0mself\u001b[0m\u001b[0;34m.\u001b[0m\u001b[0m_num_iter\u001b[0m\u001b[0;34m,\u001b[0m\u001b[0;34m\u001b[0m\u001b[0;34m\u001b[0m\u001b[0m\n\u001b[0;32m--> 331\u001b[0;31m         \u001b[0;34m)\u001b[0m \u001b[0;34m=\u001b[0m \u001b[0mlibsvm\u001b[0m\u001b[0;34m.\u001b[0m\u001b[0mfit\u001b[0m\u001b[0;34m(\u001b[0m\u001b[0;34m\u001b[0m\u001b[0;34m\u001b[0m\u001b[0m\n\u001b[0m\u001b[1;32m    332\u001b[0m             \u001b[0mX\u001b[0m\u001b[0;34m,\u001b[0m\u001b[0;34m\u001b[0m\u001b[0;34m\u001b[0m\u001b[0m\n\u001b[1;32m    333\u001b[0m             \u001b[0my\u001b[0m\u001b[0;34m,\u001b[0m\u001b[0;34m\u001b[0m\u001b[0;34m\u001b[0m\u001b[0m\n",
            "\u001b[0;32msklearn/svm/_libsvm.pyx\u001b[0m in \u001b[0;36msklearn.svm._libsvm.fit\u001b[0;34m()\u001b[0m\n",
            "\u001b[0;31mKeyboardInterrupt\u001b[0m: "
          ]
        }
      ]
    }
  ]
}