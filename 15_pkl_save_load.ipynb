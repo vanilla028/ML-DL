{
  "nbformat": 4,
  "nbformat_minor": 0,
  "metadata": {
    "colab": {
      "provenance": []
    },
    "kernelspec": {
      "name": "python3",
      "display_name": "Python 3"
    },
    "language_info": {
      "name": "python"
    }
  },
  "cells": [
    {
      "cell_type": "code",
      "execution_count": 2,
      "metadata": {
        "colab": {
          "base_uri": "https://localhost:8080/"
        },
        "id": "dmFzw7_NaF9v",
        "outputId": "c6e19388-b36a-4f5c-864e-8830e96f63ab"
      },
      "outputs": [
        {
          "output_type": "execute_result",
          "data": {
            "text/plain": [
              "['./knn_model.pkl']"
            ]
          },
          "metadata": {},
          "execution_count": 2
        }
      ],
      "source": [
        "# 번외편 PKL 파일 저장 및 로딩\n",
        "\n",
        "from sklearn import datasets\n",
        "from sklearn.neighbors import KNeighborsClassifier\n",
        "import joblib\n",
        "\n",
        "dataset = datasets.load_iris()\n",
        "\n",
        "X, y = dataset['data'], dataset['target']\n",
        "\n",
        "model = KNeighborsClassifier(n_neighbors=3)\n",
        "model.fit(X, y)\n",
        "\n",
        "# 모델 저장\n",
        "joblib.dump(model, './knn_model.pkl')"
      ]
    },
    {
      "cell_type": "code",
      "source": [
        "# 모델 로드\n",
        "loaded_model = joblib.load('./knn_model.pkl')\n",
        "\n",
        "# 예측 및 정확도 평가\n",
        "loaded_model.predict\n",
        "score = loaded_model.score(X, y)\n",
        "print('정확도: {score:.3f}'.format(score=score))"
      ],
      "metadata": {
        "colab": {
          "base_uri": "https://localhost:8080/"
        },
        "id": "OjtWR8b0e0e1",
        "outputId": "7370d3d5-5917-48ab-f1b1-b1bc86934bd0"
      },
      "execution_count": 4,
      "outputs": [
        {
          "output_type": "stream",
          "name": "stdout",
          "text": [
            "정확도: 0.960\n"
          ]
        }
      ]
    },
    {
      "cell_type": "code",
      "source": [],
      "metadata": {
        "id": "vDpFEuwKe9d4"
      },
      "execution_count": null,
      "outputs": []
    }
  ]
}